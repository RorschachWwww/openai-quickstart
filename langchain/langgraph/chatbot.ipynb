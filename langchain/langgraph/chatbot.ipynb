{
 "cells": [
  {
   "cell_type": "markdown",
   "id": "ea75a444",
   "metadata": {},
   "source": [
    "# LangGraph ChatBot 开发指南\n",
    "\n",
    "LangGraph 是一个灵活的 Agent 开发框架，可以帮助您设计复杂的对话工作流和智能代理。\n",
    "\n",
    "本指南将指导您如何使用 LangGraph 构建一个支持**多轮对话的智能客服（聊天机器人）**。\n",
    "\n",
    "我们将从一个基础的聊天机器人开始，逐步添加更多高级功能，并介绍关键的 LangGraph 概念。\n",
    "\n",
    "通过以下几个部分的学习，您将掌握如何逐步构建、增强和管理该聊天机器人。\n",
    "\n",
    "1. **构建Chatbot**： 基于 GPT-4o-mini 构建基础聊天机器人\n",
    "2. **联网查询工具**：为聊天机器人添加工具（结合网络搜索回答问题）\n",
    "3. **增加记忆系统**：在多次调用中保持对话状态\n",
    "4. **人工介入对话**：将复杂查询路由给人工审查或手动更新内容\n",
    "5. **查询历史对话**：通过状态图状态和配置查看/打印历史对话\n",
    "----------\n",
    "\n"
   ]
  },
  {
   "cell_type": "markdown",
   "id": "771ff467-f475-4461-b1c1-3678fbf64298",
   "metadata": {},
   "source": [
    "## LangGraph 核心对象介绍\n",
    "\n",
    "#### **StateGraph 对象**\n",
    "\n",
    "`StateGraph` 是 LangGraph 中的核心概念之一，它定义了聊天机器人或其他任务处理流程的结构。它是一种状态机，通过节点（nodes）和边（edges）来表示系统的状态变化。以下是 `StateGraph` 的关键点：\n",
    "\n",
    "- **定义流程图**：`StateGraph` 是用来创建流程图的对象，图中的每个节点代表一个任务或计算步骤（如调用 LLM、工具或函数），每个边（edge）定义了从一个节点到下一个节点的流向。\n",
    "  \n",
    "- **状态管理**：`StateGraph` 通过状态（`State`）来管理流程中的数据和上下文。每个节点都会接收当前的状态，并且返回一个更新后的状态。这种机制保证了在多轮对话或任务中，机器人能够持续维护上下文信息。\n",
    "\n",
    "- **消息更新**：在 `StateGraph` 中，我们可以定义如何更新状态，例如使用 `add_messages` 函数，表示将消息追加到已有的消息列表，而不是覆盖旧消息。\n",
    "\n",
    "#### StateGraph 的使用步骤\n",
    "1. **定义 State**：首先需要定义状态（`State`），例如用字典来存储消息、工具调用的结果等内容。\n",
    "2. **添加节点**：每个节点表示一个任务单元，可以是任意的 Python 函数。\n",
    "3. **添加边**：通过 `add_edge()` 方法指定节点之间的流向，例如从聊天节点到工具节点，再到结束节点。\n",
    "4. **编译图**：通过 `compile()` 方法将流程图编译为可执行的 `CompiledGraph`。\n",
    "\n",
    "-----------\n",
    "\n",
    "#### **CompiledGraph 对象**\n",
    "\n",
    "`CompiledGraph` 是由 `StateGraph` 编译得到的实际可执行对象。它负责执行在 `StateGraph` 中定义的流程，并处理每个节点的任务。`CompiledGraph` 通过状态的流动来管理整个对话或任务的执行。以下是 `CompiledGraph` 的关键点：\n",
    "\n",
    "- **流程执行**：`CompiledGraph` 是 `StateGraph` 的实际运行版本。当你调用 `stream()` 或 `invoke()` 方法时，它会依次执行图中的节点，并根据每个节点的输出状态决定下一个节点的执行。\n",
    "\n",
    "- **状态检查点（Checkpointing）**：通过使用检查点机制，`CompiledGraph` 可以在每个节点执行完后保存当前的状态，允许任务暂停并在之后恢复。例如，您可以为机器人添加记忆功能或支持“时间旅行”（回到之前的某个状态点）。\n",
    "\n",
    "- **动态路由**：`CompiledGraph` 还支持动态路由（Conditional Edges），允许根据当前状态动态决定下一步执行的节点。这使得机器人可以根据上下文或工具的输出灵活地调整行为。\n",
    "\n",
    "------------\n",
    "\n",
    "#### 关系总结\n",
    "\n",
    "- `StateGraph` 用于定义和构建一个聊天机器人或任务处理流程的结构，通过节点和边来管理流程和状态的流动。\n",
    "- `CompiledGraph` 是 `StateGraph` 编译后的版本，负责实际的流程执行、状态管理和检查点保存。\n",
    "\n",
    "它们结合在一起，提供了一个灵活、可扩展的方式来构建复杂的多步骤对话机器人或任务执行系统。\n",
    "\n",
    "------------"
   ]
  },
  {
   "cell_type": "markdown",
   "id": "bfa6d74b-5d3c-44c3-b6b6-794f82f366b8",
   "metadata": {},
   "source": [
    "## LangGraph 核心方法介绍\n",
    "\n",
    "`graph.stream` 是 LangGraph 中的一个核心方法，用于执行编译后的状态图（`CompiledGraph`）并以流式（streaming）的方式处理每个节点。通过 `stream` 方法，系统可以逐步执行对话或任务的每个步骤，并在每一步中返回中间结果。这种方式特别适用于长时间任务、逐步处理的工具调用或连续的对话。\n",
    "\n",
    "### `graph.stream` 的核心功能\n",
    "\n",
    "1. **流式执行**：\n",
    "   - `graph.stream` 允许您在每个节点执行时获得结果，类似于生成器的工作方式。在对话或任务流程中，机器人每经过一个节点（如调用工具、获取外部数据、与用户对话），都会返回该节点的执行结果。这使得系统可以逐步处理复杂的任务或多轮对话，而不是一次性等待所有步骤完成。\n",
    "\n",
    "2. **中间状态反馈**：\n",
    "   - 使用 `stream` 方法时，开发者可以在每一步获得当前的中间状态（如对话消息、工具调用的结果）。这对于调试、错误处理和用户实时反馈非常有帮助。\n",
    "   - 比如，在对话中，系统可以在用户输入每一条消息后逐步处理，逐步生成回答，而不是一次性返回最终结果。\n",
    "\n",
    "3. **支持多轮对话**：\n",
    "   - 通过 `stream`，可以让机器人保持对话的状态，使其能够处理复杂的多轮对话。系统在每一步都会保存对话的上下文，并在接收到新消息时恢复对话的状态，继续处理。\n",
    "\n",
    "4. **支持工具调用和多节点执行**：\n",
    "   - `stream` 方法不仅支持对话，还可以用于工具调用等任务。在每个工具节点执行时，系统会返回工具的执行结果，允许您对每个步骤的输出进行检查或处理。\n",
    "   - 它特别适合那些需要多个步骤或节点共同执行的任务，保证每个节点依次运行。\n",
    "\n",
    "---\n",
    "\n",
    "### 典型用法（涵盖1-3部分的重要功能）\n",
    "\n",
    "#### 1. 执行对话\n",
    "\n",
    "```python\n",
    "config = {\"configurable\": {\"thread_id\": \"1\"}}\n",
    "user_input = \"Hi, can you tell me today's weather?\"\n",
    "\n",
    "# 使用 stream 方法来执行对话\n",
    "events = graph.stream(\n",
    "    {\"messages\": [(\"user\", user_input)]},  # 传入用户的输入消息\n",
    "    config,  # 对话线程配置，用于标识对话的唯一 ID\n",
    "    stream_mode=\"values\"  # 以流式返回数据\n",
    ")\n",
    "\n",
    "# 遍历每个事件，并输出机器人生成的消息\n",
    "for event in events:\n",
    "    print(event[\"messages\"][-1].content)  # 打印最后一条消息的内容\n",
    "```\n",
    "\n",
    "在这个示例中，`graph.stream` 逐步处理用户的输入，并返回每个步骤的结果。由于使用了 `stream_mode=\"values\"`，系统以流式返回对话的中间结果。\n",
    "\n",
    "#### 2. 执行工具调用\n",
    "\n",
    "```python\n",
    "user_input = \"Please search for the latest news about AI.\"\n",
    "config = {\"configurable\": {\"thread_id\": \"2\"}}\n",
    "\n",
    "# 使用 stream 方法来执行带有工具调用的任务\n",
    "events = graph.stream(\n",
    "    {\"messages\": [(\"user\", user_input)]},  # 用户输入的消息\n",
    "    config,\n",
    "    stream_mode=\"values\"\n",
    ")\n",
    "\n",
    "# 遍历事件，获取工具的调用结果\n",
    "for event in events:\n",
    "    if \"messages\" in event:\n",
    "        # 打印工具的调用结果或机器人回复\n",
    "        print(event[\"messages\"][-1].content)\n",
    "```\n",
    "\n",
    "这个示例展示了如何通过 `graph.stream` 执行包含工具调用的任务。每个工具的调用结果都会在事件中返回，并且可以即时处理和反馈。\n",
    "\n",
    "---\n",
    "\n",
    "### `graph.stream` 的参数\n",
    "\n",
    "- **`inputs`**：输入的字典数据，通常包含对话的消息（如 `{\"messages\": [(\"user\", user_input)]}`），表示用户输入了什么信息。`inputs` 是机器人任务的初始数据。\n",
    "- **`config`**：配置参数，用于指定对话线程 ID、流执行模式等选项。它允许为每个对话或任务指定唯一的标识符，以便系统可以跟踪对话的上下文或任务状态。\n",
    "- **`stream_mode`**：指定返回数据的模式。常见的取值是 `\"values\"`，表示返回处理结果的流式数据。其他模式也可以根据具体需求进行调整。\n",
    "\n",
    "---\n",
    "\n",
    "### 适用场景\n",
    "\n",
    "1. **多轮对话机器人**：在复杂的对话场景中，用户可能与机器人进行多轮对话，并且希望机器人能够持续记住对话上下文。`graph.stream` 允许在每一轮对话中返回中间结果，并保持对话的流畅性和连贯性。\n",
    "  \n",
    "2. **逐步执行复杂任务**：例如，机器人在执行需要多个步骤的任务时，可以通过 `stream` 方法在每个步骤执行完后返回结果，而不是一次性执行整个任务。这种逐步处理的机制可以确保任务的每一步都被正确执行，并且可以随时处理异常情况。\n",
    "\n",
    "3. **实时反馈**：在实时应用中，用户希望能够尽快获得机器人的反馈。通过 `graph.stream`，系统可以在每个步骤中即时返回处理结果，让用户感受到流畅的交互体验。\n",
    "\n",
    "---\n",
    "\n",
    "### 总结\n",
    "\n",
    "`graph.stream` 是一个强大的工具，用于以流式处理对话和任务的每个步骤。它特别适合那些需要逐步执行和处理的任务场景，如多轮对话、复杂的工具调用或任务处理。通过 `stream`，系统可以在每一步中即时返回结果，并保持任务或对话的上下文信息。\n",
    "\n",
    "-----"
   ]
  },
  {
   "cell_type": "markdown",
   "id": "77f3f01c-21f0-47be-a32b-3895f46f1b65",
   "metadata": {},
   "source": [
    "## 第 1 部分：构建基础聊天机器人\n",
    "\n",
    "我们将首先使用 LangGraph 创建一个简单的聊天机器人。该机器人将直接响应用户消息。虽然简单，但它将展示 LangGraph 构建的核心概念。在本部分结束时，您将构建一个基础的聊天机器人。\n",
    "\n",
    "### 1. 安装依赖包\n",
    "\n",
    "首先，安装所需的软件包："
   ]
  },
  {
   "cell_type": "code",
   "execution_count": 1,
   "id": "bcd46847",
   "metadata": {},
   "outputs": [],
   "source": [
    "%%capture --no-stderr\n",
    "# 安装 LangGraph 和 LangSmith，用于状态图和跟踪\n",
    "%pip install -U langgraph langsmith"
   ]
  },
  {
   "cell_type": "markdown",
   "id": "e9cb2298",
   "metadata": {},
   "source": [
    "### 2. 设置 LangSmith API 密钥"
   ]
  },
  {
   "cell_type": "code",
   "execution_count": 2,
   "id": "d9db1b1d",
   "metadata": {},
   "outputs": [],
   "source": [
    "import os\n",
    "\n",
    "# 开启 LangSmith 跟踪，便于调试和查看详细执行信息\n",
    "os.environ[\"LANGCHAIN_TRACING_V2\"] = \"true\"\n",
    "os.environ[\"LANGCHAIN_PROJECT\"] = \"ChatBot\""
   ]
  },
  {
   "cell_type": "markdown",
   "id": "eeb060c3",
   "metadata": {},
   "source": [
    "### 3. 定义聊天机器人的状态图 `StateGraph`\n",
    "\n",
    "我们将添加节点以表示聊天机器人的逻辑和功能，并添加边来指定如何在功能之间进行转换。\n",
    "\n",
    "#### 代码解析\n",
    "\n",
    "当定义一个状态图时，首先要定义图的状态 `State`。`State` 包含图的状态结构以及 reducer 函数，它们指定如何应用状态更新。\n",
    "\n",
    "在本例中，`State` 是一个带有单一键 `messages` 的 `TypedDict`，该键使用 `add_messages` 函数作为注解，告诉 LangGraph 应该将新消息追加到现有消息列表中，而不是覆盖它。\n",
    "\n",
    "没有注解的状态键将被覆盖，存储最新的值。"
   ]
  },
  {
   "cell_type": "code",
   "execution_count": 3,
   "id": "a959d214",
   "metadata": {},
   "outputs": [],
   "source": [
    "from typing import Annotated\n",
    "from typing_extensions import TypedDict\n",
    "from langgraph.graph import StateGraph, START, END\n",
    "from langgraph.graph.message import add_messages\n",
    "\n",
    "# 定义状态类型，继承自 TypedDict，并使用 add_messages 函数将消息追加到现有列表\n",
    "class State(TypedDict):\n",
    "    messages: Annotated[list, add_messages]\n",
    "\n",
    "# 创建一个状态图对象，传入状态定义\n",
    "graph_builder = StateGraph(State)"
   ]
  },
  {
   "cell_type": "markdown",
   "id": "c4950d16",
   "metadata": {},
   "source": [
    "现在，状态图知道了两件事：\n",
    "\n",
    "1. 每个我们定义的节点都会接收当前的 `State` 作为输入，并返回一个更新该状态的值。\n",
    "2. `messages` 将追加到当前列表中，而不是直接覆盖。这通过 `Annotated` 语法中的预构建 `add_messages` 函数传达。\n",
    "\n",
    "### 4. 添加聊天节点\n",
    "\n",
    "节点表示一个计算单元。它们通常是常规的 Python 函数。\n",
    "\n",
    "**代码解析：**\n",
    "\n",
    "聊天机器人节点函数（`chatbot`）接收当前的 `State` 作为输入，并返回一个包含更新后的 `messages` 列表的字典。这是所有 LangGraph 节点函数的基础模式。\n",
    "\n",
    "在 `State` 中的 `add_messages` 函数会将 LLM 的响应消息追加到现有的消息列表中。"
   ]
  },
  {
   "cell_type": "code",
   "execution_count": 4,
   "id": "1f1607f3",
   "metadata": {},
   "outputs": [
    {
     "data": {
      "text/plain": [
       "<langgraph.graph.state.StateGraph at 0x284961c3940>"
      ]
     },
     "execution_count": 4,
     "metadata": {},
     "output_type": "execute_result"
    }
   ],
   "source": [
    "from langchain_openai import ChatOpenAI\n",
    "\n",
    "# 初始化一个 GPT-4o-mini 模型\n",
    "chat_model = ChatOpenAI(model=\"gpt-4o-mini\")\n",
    "\n",
    "# 定义聊天机器人的节点函数，接收当前状态并返回更新的消息列表\n",
    "def chatbot(state: State):\n",
    "    return {\"messages\": [chat_model.invoke(state[\"messages\"])]}\n",
    "\n",
    "# 第一个参数是唯一的节点名称，第二个参数是每次节点被调用时的函数或对象\n",
    "graph_builder.add_node(\"chatbot\", chatbot)"
   ]
  },
  {
   "cell_type": "markdown",
   "id": "b1ba47db",
   "metadata": {},
   "source": [
    "### 5. 定义聊天机器人对话流程（状态图的起终点）\n",
    "\n",
    "- **起点（START）**：每次运行时，从哪里开始工作。\n",
    "- **终点（END）**：每次运行此节点时，程序可以退出。"
   ]
  },
  {
   "cell_type": "code",
   "execution_count": 5,
   "id": "7f06c7de",
   "metadata": {},
   "outputs": [
    {
     "data": {
      "text/plain": [
       "<langgraph.graph.state.StateGraph at 0x284961c3940>"
      ]
     },
     "execution_count": 5,
     "metadata": {},
     "output_type": "execute_result"
    }
   ],
   "source": [
    "graph_builder.add_edge(START, \"chatbot\")\n",
    "graph_builder.add_edge(\"chatbot\", END)"
   ]
  },
  {
   "cell_type": "markdown",
   "id": "848f8d09",
   "metadata": {},
   "source": [
    "### 6. 编译图并可视化\n",
    "\n",
    "最后，我们需要能够运行我们的状态图。\n",
    "\n",
    "在图构建器上调用 `compile()`，这会创建一个可执行的 `CompiledGraph`对象。\n",
    "\n",
    "我们可以使用该图(`CompiledGraph`)来调用聊天机器人。"
   ]
  },
  {
   "cell_type": "code",
   "execution_count": 6,
   "id": "9ff06359",
   "metadata": {},
   "outputs": [
    {
     "data": {
      "image/png": "[encoded data removed]",
      "text/plain": [
       "<IPython.core.display.Image object>"
      ]
     },
     "metadata": {},
     "output_type": "display_data"
    }
   ],
   "source": [
    "# 编译状态图并生成可执行图对象\n",
    "graph = graph_builder.compile()\n",
    "\n",
    "# 你可以使用 get_graph 方法来可视化图，并结合 draw 方法（如 draw_ascii 或 draw_png）\n",
    "from IPython.display import Image, display\n",
    "\n",
    "try:\n",
    "    display(Image(graph.get_graph().draw_mermaid_png()))\n",
    "except Exception:\n",
    "    pass"
   ]
  },
  {
   "cell_type": "markdown",
   "id": "7e7be101",
   "metadata": {},
   "source": [
    "### 7. 运行图\n",
    "\n",
    "**恭喜！您已经使用 LangGraph 构建了第一个聊天机器人。这个机器人可以通过接受用户输入并生成 LLM 回复来进行基本对话。**\n",
    "\n",
    "现在运行聊天机器人！\n",
    "\n",
    "#### 代码解析\n",
    "\n",
    "1. **聊天循环**：\n",
    "   - `while True:` 启动一个持续的聊天循环，用户可以不断输入问题或命令与聊天机器人互动。\n",
    "\n",
    "2. **获取用户输入**：\n",
    "   - 使用 `input(\"User: \")` 来获取用户的输入消息，并将其赋值给 `user_input` 变量。\n",
    "\n",
    "3. **退出条件**：\n",
    "   - 如果用户输入 `\"quit\"`、`\"exit\"` 或 `\"q\"`，系统会通过 `break` 语句退出聊天循环，结束程序运行。\n",
    "\n",
    "4. **将用户消息传递给聊天机器人**：\n",
    "   - 通过调用 `graph.stream({\"messages\": (\"user\", user_input)})`，将用户的输入传递给聊天机器人模型。`graph.stream` 方法会根据输入的消息生成相应的回复。\n",
    "   - 这里 `\"messages\": (\"user\", user_input)` 表示传递的是用户的输入消息。\n",
    "\n",
    "5. **处理机器人的回复**：\n",
    "   - 遍历 `event.values()` 中的每个值，从机器人生成的回复中提取最后一条消息，并使用 `print(\"Assistant:\", value[\"messages\"][-1].content)` 打印输出聊天机器人的回复内容。\n",
    "\n",
    "该代码是一个简单的聊天机器人框架，用户可以在命令行中输入问题，机器人会根据用户的输入实时生成回复。如果用户输入退出指令，程序会结束对话循环。"
   ]
  },
  {
   "cell_type": "code",
   "execution_count": 7,
   "id": "12e6c741",
   "metadata": {},
   "outputs": [
    {
     "name": "stdin",
     "output_type": "stream",
     "text": [
      "User:  2024年特朗普当上总统了吗\n"
     ]
    },
    {
     "name": "stdout",
     "output_type": "stream",
     "text": [
      "Assistant: 截至我最后的知识更新（2023年10月），2024年美国总统选举尚未举行，因此特朗普是否当选总统还无法确定。选举将于2024年11月进行，届时各党派的候选人将通过选民投票决定总统。如果你想了解最新的选举动态和结果，建议查看相关新闻来源。\n"
     ]
    },
    {
     "name": "stdin",
     "output_type": "stream",
     "text": [
      "User:  q\n"
     ]
    },
    {
     "name": "stdout",
     "output_type": "stream",
     "text": [
      "Goodbye!\n"
     ]
    }
   ],
   "source": [
    "# 开始一个简单的聊天循环\n",
    "while True:\n",
    "    # 获取用户输入\n",
    "    user_input = input(\"User: \")\n",
    "    \n",
    "    # 可以随时通过输入 \"quit\"、\"exit\" 或 \"q\" 退出聊天循环\n",
    "    if user_input.lower() in [\"quit\", \"exit\", \"q\"]:\n",
    "        print(\"Goodbye!\")  # 打印告别信息\n",
    "        break  # 结束循环，退出聊天\n",
    "\n",
    "    # 将每次用户输入的内容传递给 graph.stream，用于聊天机器人状态处理\n",
    "    # \"messages\": (\"user\", user_input) 表示传递的消息是用户输入的内容\n",
    "    for event in graph.stream({\"messages\": (\"user\", user_input)}):\n",
    "        \n",
    "        # 遍历每个事件的值\n",
    "        for value in event.values():\n",
    "            # 打印输出 chatbot 生成的最新消息\n",
    "            print(\"Assistant:\", value[\"messages\"][-1].content)"
   ]
  },
  {
   "cell_type": "markdown",
   "id": "497df061",
   "metadata": {},
   "source": [
    "--------------\n",
    "#### 运行结果分析\n",
    "\n",
    "问：详细介绍下 LangGraph 项目\n",
    "\n",
    "gpt-4o-mini 训练数据截止日期，在 LangGraph 项目推出前。\n",
    "\n",
    "因此，直接让模型生成 LangGraph 相关介绍时，会出现事实性的问题。\n",
    "\n"
   ]
  },
  {
   "cell_type": "markdown",
   "id": "a64039fb",
   "metadata": {},
   "source": [
    "## 第 2 部分：为聊天机器人添加工具\n",
    "\n",
    "为了处理我们聊天机器人无法“记住”回答的问题，我们将集成一个 Web 搜索工具 [Tavily Search](\n",
    "https://python.langchain.com/v0.2/docs/integrations/tools/tavily_search/)。\n",
    "\n",
    "我们的机器人可以使用这个工具找到相关信息，并提供更好的回复。\n",
    "\n",
    "### 1. 安装依赖并设置 Tavily API\n",
    "\n",
    "访问 [Tavily](https://tavily.com/) 官网，注册账号并生成你的 `TAVILY_API_KEY`。\n",
    "\n",
    "Tavily 提供 1000次/月的免费检索额度。\n",
    "\n",
    "在开始之前，确保您已安装 Tavily 搜索引擎所需的包并在环境变量中设置了 `TAVILY_API_KEY`。"
   ]
  },
  {
   "cell_type": "code",
   "execution_count": 8,
   "id": "9fe20f5f",
   "metadata": {},
   "outputs": [],
   "source": [
    "%%capture --no-stderr\n",
    "# 安装 Tavily 搜索引擎的 Python 包\n",
    "%pip install -U tavily-python\n",
    "%pip install -U langchain_community"
   ]
  },
  {
   "cell_type": "code",
   "execution_count": 9,
   "id": "fb1758a2-7208-4aa4-8c60-4ec2e57b1783",
   "metadata": {},
   "outputs": [],
   "source": [
    "# import getpass\n",
    "# import os\n",
    "\n",
    "# if not os.environ.get(\"TAVILY_API_KEY\"):\n",
    "#     os.environ[\"TAVILY_API_KEY\"] = getpass.getpass(\"Tavily API key:\\n\")"
   ]
  },
  {
   "cell_type": "markdown",
   "id": "4448a461",
   "metadata": {},
   "source": [
    "### 2. 定义工具"
   ]
  },
  {
   "cell_type": "code",
   "execution_count": 10,
   "id": "5ec05131",
   "metadata": {},
   "outputs": [
    {
     "data": {
      "text/plain": [
       "[{'url': 'https://medium.com/@cplog/introduction-to-langgraph-a-beginners-guide-14f9be027141',\n",
       "  'content': 'Nodes: Nodes are the building blocks of your LangGraph. Each node represents a function or a computation step. You define nodes to perform specific tasks, such as processing input, making'},\n",
       " {'url': 'https://medium.com/@kbdhunga/beginners-guide-to-langgraph-understanding-state-nodes-and-edges-part-1-897e6114fa48',\n",
       "  'content': 'Each node in a LangGraph graph has the ability to access, read, and write to the state. When a node modifies the state, it effectively broadcasts this information to all other nodes within the graph .'}]"
      ]
     },
     "execution_count": 10,
     "metadata": {},
     "output_type": "execute_result"
    }
   ],
   "source": [
    "from langchain_community.tools.tavily_search import TavilySearchResults\n",
    "\n",
    "# 定义 Tavily 搜索工具，最大搜索结果数设置为 2\n",
    "tool = TavilySearchResults(max_results=2)\n",
    "tools = [tool]\n",
    "\n",
    "# 测试工具调用\n",
    "tool.invoke(\"What's a 'node' in LangGraph?\")"
   ]
  },
  {
   "cell_type": "markdown",
   "id": "07ba26bd",
   "metadata": {},
   "source": [
    "-----------------------------\n",
    "#### 搜索工具结果 如上所示\n",
    "\n",
    "工具返回的是页面摘要，供我们的聊天机器人用于回答问题。\n",
    "\n",
    "### 3. 将工具集成到状态图中\n",
    "\n",
    "以下步骤与第 1 部分类似，只不过我们在 `LLM` 上添加了 `bind_tools`，这使得 LLM 可以在需要时调用搜索工具。"
   ]
  },
  {
   "cell_type": "code",
   "execution_count": 11,
   "id": "32631ea0",
   "metadata": {},
   "outputs": [
    {
     "data": {
      "text/plain": [
       "<langgraph.graph.state.StateGraph at 0x28499e5b3d0>"
      ]
     },
     "execution_count": 11,
     "metadata": {},
     "output_type": "execute_result"
    }
   ],
   "source": [
    "from typing import Annotated\n",
    "from langchain_openai import ChatOpenAI\n",
    "from typing_extensions import TypedDict\n",
    "from langgraph.graph import StateGraph, START\n",
    "from langgraph.graph.message import add_messages\n",
    "\n",
    "# 定义状态\n",
    "class State(TypedDict):\n",
    "    messages: Annotated[list, add_messages]\n",
    "\n",
    "graph_builder = StateGraph(State)\n",
    "\n",
    "# 初始化 LLM 并绑定搜索工具\n",
    "chat_model = ChatOpenAI(model=\"gpt-4o-mini\")\n",
    "llm_with_tools = chat_model.bind_tools(tools)\n",
    "\n",
    "# 更新聊天机器人节点函数，支持工具调用\n",
    "def chatbot(state: State):\n",
    "    return {\"messages\": [llm_with_tools.invoke(state[\"messages\"])]}\n",
    "\n",
    "# 将更新后的节点添加到状态图中\n",
    "graph_builder.add_node(\"chatbot\", chatbot)"
   ]
  },
  {
   "cell_type": "markdown",
   "id": "9c8c99bb",
   "metadata": {},
   "source": [
    "\n",
    "### 4. 处理工具调用\n",
    "\n",
    "我们需要创建一个函数来运行工具。我们通过向图中添加一个新节点来实现这一点。\n",
    "\n"
   ]
  },
  {
   "cell_type": "code",
   "execution_count": 12,
   "id": "7e8e3ba9",
   "metadata": {},
   "outputs": [],
   "source": [
    "import json\n",
    "from langchain_core.messages import ToolMessage\n",
    "\n",
    "# 定义 BasicToolNode，用于执行工具请求\n",
    "class BasicToolNode:\n",
    "    \"\"\"一个在最后一条 AIMessage 中执行工具请求的节点。\n",
    "    \n",
    "    该节点会检查最后一条 AI 消息中的工具调用请求，并依次执行这些工具调用。\n",
    "    \"\"\"\n",
    "\n",
    "    def __init__(self, tools: list) -> None:\n",
    "        # tools 是一个包含所有可用工具的列表，我们将其转化为字典，\n",
    "        # 通过工具名称（tool.name）来访问具体的工具\n",
    "        self.tools_by_name = {tool.name: tool for tool in tools}\n",
    "\n",
    "    def __call__(self, inputs: dict):\n",
    "        \"\"\"执行工具调用\n",
    "        \n",
    "        参数:\n",
    "        inputs: 包含 \"messages\" 键的字典，\"messages\" 是对话消息的列表，\n",
    "                其中最后一条消息可能包含工具调用的请求。\n",
    "        \n",
    "        返回:\n",
    "        包含工具调用结果的消息列表\n",
    "        \"\"\"\n",
    "        # 获取消息列表中的最后一条消息，判断是否包含工具调用请求\n",
    "        if messages := inputs.get(\"messages\", []):\n",
    "            message = messages[-1]\n",
    "        else:\n",
    "            raise ValueError(\"输入中未找到消息\")\n",
    "\n",
    "        # 用于保存工具调用的结果\n",
    "        outputs = []\n",
    "\n",
    "        # 遍历工具调用请求，执行工具并将结果返回\n",
    "        for tool_call in message.tool_calls:\n",
    "            # 根据工具名称找到相应的工具，并调用工具的 invoke 方法执行工具\n",
    "            tool_result = self.tools_by_name[tool_call[\"name\"]].invoke(\n",
    "                tool_call[\"args\"]\n",
    "            )\n",
    "            # 将工具调用结果作为 ToolMessage 保存下来\n",
    "            outputs.append(\n",
    "                ToolMessage(\n",
    "                    content=json.dumps(tool_result),  # 工具调用的结果以 JSON 格式保存\n",
    "                    name=tool_call[\"name\"],  # 工具的名称\n",
    "                    tool_call_id=tool_call[\"id\"],  # 工具调用的唯一标识符\n",
    "                )\n",
    "            )\n",
    "        # 返回包含工具调用结果的消息\n",
    "        return {\"messages\": outputs}"
   ]
  },
  {
   "cell_type": "code",
   "execution_count": 13,
   "id": "75c139e4-af01-4cc8-987e-16b2ec82a662",
   "metadata": {},
   "outputs": [
    {
     "data": {
      "text/plain": [
       "<langgraph.graph.state.StateGraph at 0x28499e5b3d0>"
      ]
     },
     "execution_count": 13,
     "metadata": {},
     "output_type": "execute_result"
    }
   ],
   "source": [
    "# 将 BasicToolNode 添加到状态图中\n",
    "tool_node = BasicToolNode(tools=[tool])\n",
    "graph_builder.add_node(\"tools\", tool_node)"
   ]
  },
  {
   "cell_type": "markdown",
   "id": "f833a146",
   "metadata": {},
   "source": [
    "\n",
    "### 5. 添加条件边\n",
    "\n",
    "条件边将控制流从一个节点路由到另一个节点。条件边通常包含 `if` 语句，以根据当前状态将控制流路由到不同的节点。\n",
    "\n",
    "#### 代码解析\n",
    "\n",
    "我们定义一个路由函数 `route_tools`，检查聊天机器人的输出中是否包含工具调用。此函数会在聊天机器人节点完成后检查，决定下一步走向工具节点还是结束对话。\n",
    "\n",
    "1. **`route_tools` 函数**：这是一个路由函数，用来决定机器人在对话流程中的下一步。它会检查状态中的最后一条消息，判断该消息是否包含工具调用请求。\n",
    "   - 如果有工具调用请求（通过 `tool_calls` 属性判断），返回 `\"tools\"`，表示需要执行工具节点。\n",
    "   - 如果没有工具调用请求，则返回 `\"__end__\"`，表示对话流程结束。\n",
    "\n",
    "2. **`add_conditional_edges`**：这是 LangGraph 中用于条件路由的函数。它允许我们根据 `route_tools` 函数的返回值决定下一个要执行的节点。比如：\n",
    "   - 如果返回值是 `\"tools\"`，则执行工具节点。\n",
    "   - 如果返回值是 `\"__end__\"`，则结束流程。\n",
    "\n",
    "3. **`add_edge`**：当工具节点执行完成后，机器人会返回到 `chatbot` 节点继续对话。\n",
    "\n",
    "4. **编译状态图**：最后，使用 `graph_builder.compile()` 编译状态图，生成一个 `CompiledGraph`，这个对象可以实际执行对话流程。"
   ]
  },
  {
   "cell_type": "code",
   "execution_count": 14,
   "id": "fafcaabc",
   "metadata": {},
   "outputs": [
    {
     "data": {
      "text/plain": [
       "<langgraph.graph.state.StateGraph at 0x28499e5b3d0>"
      ]
     },
     "execution_count": 14,
     "metadata": {},
     "output_type": "execute_result"
    }
   ],
   "source": [
    "from typing import Literal\n",
    "\n",
    "# 定义路由函数，检查工具调用\n",
    "def route_tools(\n",
    "    state: State,\n",
    ") -> Literal[\"tools\", \"__end__\"]:\n",
    "    \"\"\"\n",
    "    使用条件边来检查最后一条消息中是否有工具调用。\n",
    "    \n",
    "    参数:\n",
    "    state: 状态字典或消息列表，用于存储当前对话的状态和消息。\n",
    "    \n",
    "    返回:\n",
    "    如果最后一条消息包含工具调用，返回 \"tools\" 节点，表示需要执行工具调用；\n",
    "    否则返回 \"__end__\"，表示直接结束流程。\n",
    "    \"\"\"\n",
    "    # 检查状态是否是列表类型（即消息列表），取最后一条 AI 消息\n",
    "    if isinstance(state, list):\n",
    "        ai_message = state[-1]\n",
    "    # 否则从状态字典中获取 \"messages\" 键，取最后一条消息\n",
    "    elif messages := state.get(\"messages\", []):\n",
    "        ai_message = messages[-1]\n",
    "    # 如果没有找到消息，则抛出异常\n",
    "    else:\n",
    "        raise ValueError(f\"输入状态中未找到消息: {state}\")\n",
    "\n",
    "    # 检查最后一条消息是否有工具调用请求\n",
    "    if hasattr(ai_message, \"tool_calls\") and len(ai_message.tool_calls) > 0:\n",
    "        return \"tools\"  # 如果有工具调用请求，返回 \"tools\" 节点\n",
    "    return \"__end__\"  # 否则返回 \"__end__\"，流程结束\n",
    "\n",
    "# 添加条件边，判断是否需要调用工具\n",
    "graph_builder.add_conditional_edges(\n",
    "    \"chatbot\",  # 从聊天机器人节点开始\n",
    "    route_tools,  # 路由函数，决定下一个节点\n",
    "    {\n",
    "        \"tools\": \"tools\", \n",
    "        \"__end__\": \"__end__\"\n",
    "    },  # 定义条件的输出，工具调用走 \"tools\"，否则走 \"__end__\"\n",
    ")\n",
    "\n",
    "# 当工具调用完成后，返回到聊天机器人节点以继续对话\n",
    "graph_builder.add_edge(\"tools\", \"chatbot\")\n",
    "\n",
    "# 指定从 START 节点开始，进入聊天机器人节点\n",
    "graph_builder.add_edge(START, \"chatbot\")"
   ]
  },
  {
   "cell_type": "markdown",
   "id": "47bdf00b",
   "metadata": {},
   "source": [
    "\n",
    "### 6. 编译图并可视化\n",
    "\n",
    "使用以下代码可视化构建的状态图：\n",
    "\n"
   ]
  },
  {
   "cell_type": "code",
   "execution_count": 15,
   "id": "8ca50a69-6dcc-4b6d-b9d7-3afedf260d6d",
   "metadata": {},
   "outputs": [],
   "source": [
    "# 编译状态图，生成可执行的流程图\n",
    "graph = graph_builder.compile()"
   ]
  },
  {
   "cell_type": "code",
   "execution_count": 16,
   "id": "e6206f1b",
   "metadata": {},
   "outputs": [
    {
     "data": {
      "image/png": "[encoded data removed]",
      "text/plain": [
       "<IPython.core.display.Image object>"
      ]
     },
     "metadata": {},
     "output_type": "display_data"
    }
   ],
   "source": [
    "from IPython.display import Image, display\n",
    "\n",
    "try:\n",
    "    display(Image(graph.get_graph().draw_mermaid_png()))\n",
    "except Exception:\n",
    "    pass\n"
   ]
  },
  {
   "cell_type": "markdown",
   "id": "c9f90b11",
   "metadata": {},
   "source": [
    "### 7. 运行图\n",
    "\n",
    "现在，我们可以询问机器人超出其训练数据范围的问题。\n",
    "\n",
    "#### 代码解析\n",
    "\n",
    "1. **`while True` 循环**：\n",
    "   - 这是一个无限循环，用于保持对话的持续进行，直到用户输入退出命令为止。每次用户输入一条消息，系统都会将消息传递给机器人进行处理。\n",
    "\n",
    "2. **用户输入**：\n",
    "   - `input(\"User: \")` 用于从用户处获取输入信息，模拟与机器人对话的场景。\n",
    "   - 如果用户输入的是 `\"quit\"`、`\"exit\"` 或 `\"q\"`，系统将打印 `\"Goodbye!\"` 并退出循环，结束程序。\n",
    "\n",
    "3. **`graph.stream`**：\n",
    "   - `graph.stream({\"messages\": [(\"user\", user_input)]})` 会将用户的输入消息传递给状态图（graph）进行处理，`graph` 会根据流程生成相应的回复。\n",
    "   - `\"messages\": [(\"user\", user_input)]`：这是传递给机器人对话系统的输入消息，表示来自用户的输入内容。\n",
    "\n",
    "4. **遍历 `event.values()`**：\n",
    "   - `graph.stream` 会生成一系列的 `event`，每个 `event` 都包含机器人的响应消息。通过遍历 `event.values()`，我们可以获取每个消息的内容。\n",
    "   - 如果最后一条消息是 `BaseMessage` 类型（机器人回复），则通过 `print(\"Assistant:\", value[\"messages\"][-1].content)` 将机器人的回复输出到控制台。\n",
    "\n",
    "5. **`BaseMessage`**：\n",
    "   - `BaseMessage` 是 LangChain 中的消息类型，用于表示机器人和用户之间的消息。在这里，它用于确认从机器人生成的消息是否符合标准格式。"
   ]
  },
  {
   "cell_type": "code",
   "execution_count": 17,
   "id": "0ddd8960",
   "metadata": {},
   "outputs": [
    {
     "name": "stdin",
     "output_type": "stream",
     "text": [
      "User:  2024年特朗普当上总统了吗\n"
     ]
    },
    {
     "name": "stdout",
     "output_type": "stream",
     "text": [
      "Assistant: \n",
      "Assistant: [{\"url\": \"https://cn.nytimes.com/usa/20241106/trump-wins-presidency/\", \"content\": \"\\u7279\\u6717\\u666e\\u91cd\\u8fd4\\u767d\\u5bab\\uff0c\\u5f00\\u542f\\u65b0\\u7684\\u4e0d\\u786e\\u5b9a\\u65f6\\u4ee3 - \\u7ebd\\u7ea6\\u65f6\\u62a5\\u4e2d\\u6587\\u7f51 \\u56fd\\u9645 \\u4e2d\\u56fd \\u5546\\u4e1a\\u4e0e\\u7ecf\\u6d4e \\u955c\\u5934 \\u79d1\\u6280 \\u79d1\\u5b66 \\u5065\\u5eb7 \\u6559\\u80b2 \\u6587\\u5316 \\u98ce\\u5c1a \\u65c5\\u6e38 \\u623f\\u5730\\u4ea7 \\u89c2\\u70b9\\u4e0e\\u8bc4\\u8bba \\u7b80\\u7e41\\u4e2d\\u6587 \\u7b80\\u4f53 \\u7e41\\u4f53 \\u7ebd\\u7ea6\\u65f6\\u62a5 \\u51fa\\u7248\\u8bed\\u8a00 ENGLISH (\\u82f1\\u8bed) ESPA\\u00d1OL (\\u897f\\u73ed\\u7259\\u8bed) \\u5b57\\u4f53\\u5927\\u5c0f \\u8d85\\u5927 \\u7f8e\\u56fd \\u4e2d\\u6587 \\u4e2d \\u4e2d\\u82f1\\u53cc\\u8bed \\u53cc\\u8bed \\u82f1\\u6587 \\u82f1 \\u7279\\u6717\\u666e\\u91cd\\u8fd4\\u767d\\u5bab\\uff0c\\u5f00\\u542f\\u65b0\\u7684\\u4e0d\\u786e\\u5b9a\\u65f6\\u4ee3 SHANE GOLDMACHER, LISA LERER 2024\\u5e7411\\u67086\\u65e5 \\u7279\\u6717\\u666e\\u8a93\\u8a00\\u8981\\u5728\\u7b2c\\u4e8c\\u4e2a\\u4efb\\u671f\\u5185\\u5f7b\\u5e95\\u6539\\u9020\\u7f8e\\u56fd\\u653f\\u5e9c\\u3002 Doug Mills/The New York Times \\u5468\\u4e09\\uff0c\\u5510\\u7eb3\\u5fb7\\u00b7J\\u00b7\\u7279\\u6717\\u666e\\u51ed\\u501f\\u6253\\u7834\\u7f8e\\u56fd\\u73b0\\u72b6\\u7684\\u627f\\u8bfa\\u8d62\\u5f97\\u4e86\\u7b2c\\u4e8c\\u4e2a\\u603b\\u7edf\\u4efb\\u671f\\uff0c\\u4ed6\\u633a\\u8fc7\\u4e86\\u5211\\u4e8b\\u5b9a\\u7f6a\\u3001\\u8d77\\u8bc9\\u3001\\u523a\\u5ba2\\u7684\\u5b50\\u5f39\\u3001\\u72ec\\u88c1\\u6307\\u63a7\\u4ee5\\u53ca\\u53f2\\u65e0\\u524d\\u4f8b\\u7684\\u5bf9\\u624b\\u4e34\\u9635\\u6362\\u4eba\\uff0c\\u4ee4\\u4eba\\u77a9\\u76ee\\u5730\\u518d\\u6b21\\u638c\\u63e1\\u6743\\u529b\\u3002 \\u8fd9\\u573a\\u80dc\\u5229\\u5c06\\u4ed6\\u4ee4\\u4eba\\u60ca\\u53f9\\u7684\\u653f\\u6cbb\\u56de\\u5f52\\u63a8\\u5411\\u4e86\\u9876\\u5cf0\\uff0c\\u4e00\\u4e2a\\u88ab\\u6307\\u63a7\\u5bc6\\u8c0b\\u63a8\\u7ffb\\u4e0a\\u6b21\\u9009\\u4e3e\\u7ed3\\u679c\\u7684\\u4eba\\uff0c\\u5229\\u7528\\u4eba\\u4eec\\u5bf9\\u7ecf\\u6d4e\\u548c\\u975e\\u6cd5\\u79fb\\u6c11\\u7684\\u4e0d\\u6ee1\\u548c\\u6050\\u60e7\\uff0c\\u51fb\\u8d25\\u4e86\\u526f\\u603b\\u7edf\\u8d3a\\u9526\\u4e3d\\u3002 \\u4ed6\\u98a0\\u8986\\u56fd\\u5bb6\\u653f\\u6cbb\\u4f53\\u7cfb\\u7684\\u72c2\\u5984\\u8ba1\\u5212\\u5438\\u5f15\\u4e86\\u6570\\u5343\\u4e07\\u9009\\u6c11\\uff0c\\u4ed6\\u4eec\\u62c5\\u5fc3\\u7f8e\\u56fd\\u68a6\\u53d8\\u5f97\\u8d8a\\u6765\\u8d8a\\u9065\\u4e0d\\u53ef\\u53ca\\uff0c\\u5e76\\u89c6\\u7279\\u6717\\u666e\\u4e3a\\u5bf9\\u6297\\u7edf\\u6cbb\\u9636\\u7ea7\\u548c\\u77e5\\u8bc6\\u7cbe\\u82f1\\u7fa4\\u4f53\\u7684\\u6b66\\u5668\\u3002 \\u5728\\u8fd9\\u4e2a\\u4e25\\u91cd\\u5206\\u88c2\\u7684\\u56fd\\u5bb6\\uff0c\\u9009\\u6c11\\u8ba4\\u53ef\\u4e86\\u7279\\u6717\\u666e\\u7684\\u627f\\u8bfa\\uff0c\\u5373\\u4e0d\\u60dc\\u4e00\\u5207\\u4ee3\\u4ef7\\u5c01\\u9501\\u5357\\u90e8\\u8fb9\\u5883\\uff0c\\u901a\\u8fc7\\u5f81\\u653619\\u4e16\\u7eaa\\u5f0f\\u7684\\u5173\\u7a0e\\u6765\\u6062\\u590d\\u7f8e\\u56fd\\u5236\\u9020\\u4e1a\\u3001\\u632f\\u5174\\u7ecf\\u6d4e\\uff0c\\u5e76\\u5e26\\u9886\\u7f8e\\u56fd\\u9000\\u51fa\\u56fd\\u9645\\u4e8b\\u52a1\\u548c\\u5168\\u7403\\u51b2\\u7a81\\u3002 \\u5e7f\\u544a \\u5982\\u4eca\\uff0c\\u5728\\u4e0d\\u60c5\\u613f\\u5730\\u5378\\u4efb\\u7b2c45\\u4efb\\u603b\\u7edf\\u56db\\u5e74\\u540e\\uff0c\\u7279\\u6717\\u666e\\u5c06\\u6210\\u4e3a\\u7f8e\\u56fd\\u7b2c47\\u4efb\\u603b\\u7edf\\uff0c\\u662f\\u81ea19\\u4e16\\u7eaa\\u672b\\u7684\\u683c\\u7f57\\u5f17\\u00b7\\u514b\\u5229\\u592b\\u5170\\u4ee5\\u6765\\u7b2c\\u4e00\\u4f4d\\u7ade\\u9009\\u8fde\\u4efb\\u5931\\u8d25\\u540e\\u518d\\u5ea6\\u8d62\\u5f97\\u603b\\u7edf\\u804c\\u4f4d\\u7684\\u653f\\u6cbb\\u4eba\\u7269\\u3002\\u73b0\\u5e7478\\u5c81\\u7684\\u4ed6\\u4e5f\\u6210\\u4e3a\\u4e86\\u6709\\u53f2\\u4ee5\\u6765\\u6700\\u5e74\\u957f\\u7684\\u5f53\\u9009\\u603b\\u7edf\\uff0c\\u6253\\u7834\\u4e86\\u62dc\\u767b\\u4fdd\\u6301\\u7684\\u8bb0\\u5f55\\u3002\\u7279\\u6717\\u666e\\u66fe\\u731b\\u70c8\\u653b\\u51fb\\u62dc\\u767b\\u7684\\u884c\\u4e3a\\u80fd\\u529b\\u3002 \\u4ed6\\u7684\\u80dc\\u5229\\u7ed9\\u7f8e\\u56fd\\u5e26\\u6765\\u4e86\\u4e00\\u4e2a\\u4e0d\\u786e\\u5b9a\\u7684\\u65f6\\u4ee3\\u3002 \\u5bf9\\u5927\\u7ea6\\u4e00\\u534a\\u7684\\u7f8e\\u56fd\\u4eba\\u6765\\u8bf4\\uff0c\\u7279\\u6717\\u666e\\u7684\\u5d1b\\u8d77\\u9884\\u793a\\u7740\\u7f8e\\u56fd\\u6c11\\u4e3b\\u7684\\u9ed1\\u6697\\u8f6c\\u6298\\uff0c\\u73b0\\u5728\\u5b83\\u7684\\u672a\\u6765\\u5c06\\u53d6\\u51b3\\u4e8e\\u4e00\\u4e2a\\u516c\\u5f00\\u8c08\\u8bba\\u7834\\u574f\\u6cd5\\u6cbb\\u7684\\u4eba\\u3002\\u7279\\u6717\\u666e\\u717d\\u52a8\\u4e862021\\u5e74\\u5bf9\\u56fd\\u4f1a\\u5927\\u53a6\\u7684\\u88ad\\u51fb\\uff0c\\u5a01\\u80c1\\u8981\\u76d1\\u7981\\u653f\\u6cbb\\u5bf9\\u624b\\uff0c\\u5e76\\u88ab\\u524d\\u52a9\\u624b\\u65a5\\u4e3a\\u6cd5\\u897f\\u65af\\u4e3b\\u4e49\\u8005\\u3002\\u4f46\\u5bf9\\u4ed6\\u7684\\u652f\\u6301\\u8005\\u6765\\u8bf4\\uff0c\\u7279\\u6717\\u666e\\u7684\\u6311\\u8845\\u884c\\u4e3a\\u6210\\u4e86\\u5356\\u70b9\\u800c\\u975e\\u7f3a\\u9677\\u3002 \\u5c31\\u5728\\u7279\\u6717\\u666e7\\u6708\\u5728\\u5bc6\\u5c14\\u6c83\\u57fa\\u4e3e\\u884c\\u7684\\u5171\\u548c\\u515a\\u5168\\u56fd\\u4ee3\\u8868\\u5927\\u4f1a\\u4e0a\\u767b\\u53f0\\u7684\\u51e0\\u5929\\u524d\\uff0c\\u53d1\\u751f\\u4e86\\u4e00\\u8d77\\u9488\\u5bf9\\u4ed6\\u7684\\u672a\\u9042\\u6697\\u6740\\u4e8b\\u4ef6\\u3002 Jamie Kelter Davis for The New York Times \\u7279\\u6717\\u666e\\u5728\\u98de\\u673a\\u4e0a\\u89c2\\u770b\\u4e86\\u62dc\\u767b\\u603b\\u7edf\\u5ba3\\u5e03\\u9000\\u51fa\\u603b\\u7edf\\u9009\\u4e3e\\u7684\\u6d88\\u606f\\u3002 Doug Mills/The New York Times \\u7279\\u6717\\u666e\\u5728\\u7b2c\\u4e09\\u6b21\\u7ade\\u9009\\u603b\\u7edf\\u671f\\u95f4\\u88ab\\u5224\\u72af\\u670934\\u9879\\u91cd\\u7f6a\\u3002 Doug Mills/The New York Times \\u7ade\\u9009\\u6d3b\\u52a8\\u4e2d\\u51fa\\u73b0\\u4e86\\u5370\\u6709\\u7279\\u6717\\u666e\\u5165\\u6848\\u7167\\u7684\\u5468\\u8fb9\\u5546\\u54c1\\u3002 Doug Mills/The New York Times 7\\u670813\\u65e5\\uff0c\\u5728\\u5bbe\\u5915\\u6cd5\\u5c3c\\u4e9a\\u5dde\\u5df4\\u7279\\u52d2\\u4e3e\\u884c\\u7684\\u7ade\\u9009\\u96c6\\u4f1a\\u4e0a\\uff0c\\u7279\\u6717\\u666e\\u7684\\u8033\\u6735\\u88ab\\u5b50\\u5f39\\u64e6\\u4f24\\uff0c\\u4ed6\\u4e3e\\u8d77\\u62f3\\u5934\\u4ee5\\u793a\\u53cd\\u6297\\u3002 Doug Mills/The New York Times 9\\u6708\\uff0c\\u8d3a\\u9526\\u4e3d\\u5728\\u53cc\\u65b9\\u552f\\u4e00\\u4e00\\u6b21\\u8fa9\\u8bba\\u4e2d\\u4f7f\\u7528\\u4e86\\u806a\\u660e\\u7684\\u7b56\\u7565\\uff0c\\u5728\\u7279\\u6717\\u666e\\u9762\\u524d\\u5360\\u4e86\\u4e0a\\u98ce\\u3002 Hiroko Masuike/The New York Times Shane Goldmacher\\u662f\\u65f6\\u62a5\\u7f8e\\u56fd\\u653f\\u6cbb\\u7684\\u8bb0\\u8005\\uff0c\\u62a5\\u90532024\\u5e74\\u603b\\u7edf\\u7ade\\u9009\\u6d3b\\u52a8\\uff0c\\u4ee5\\u53ca\\u5851\\u9020\\u7f8e\\u56fd\\u653f\\u6cbb\\u7684\\u4e3b\\u8981\\u8fdb\\u5c55\\uff0c\\u8d8b\\u52bf\\u548c\\u529b\\u91cf\\u3002\\u53ef\\u4ee5\\u901a\\u8fc7\\u90ae\\u4ef6\\u8054\\u7cfb\\u4ed6\\uff1ashane.goldmacher@nytimes.com\\u3002\\u70b9\\u51fb\\u67e5\\u770b\\u66f4\\u591a\\u5173\\u4e8e\\u4ed6\\u7684\\u4fe1\\u606f\\u3002 Lisa Lerer\\u662f\\u65f6\\u62a5\\u7f8e\\u56fd\\u653f\\u6cbb\\u8bb0\\u8005\\uff0c\\u5e38\\u9a7b\\u7ebd\\u7ea6\\u3002\\u5979\\u62a5\\u9053\\u7f8e\\u56fd\\u653f\\u6cbb\\u5df2\\u670920\\u591a\\u5e74\\u3002\\u70b9\\u51fb\\u67e5\\u770b\\u66f4\\u591a\\u5173\\u4e8e\\u5979\\u7684\\u4fe1\\u606f\\u3002 ### \\u5b9e\\u65f6\\uff1a\\u7279\\u6717\\u666e\\u5f53\\u9009\\u7f8e\\u56fd\\u7b2c47\\u4efb\\u603b\\u7edf 2024\\u5e7411\\u67086\\u65e5  ### \\u590d\\u76d8\\u5927\\u9009\\u4e4b\\u591c\\uff1a\\u7279\\u6717\\u666e\\u7684\\u5f3a\\u52bf\\u201c\\u6d85\\u69c3\\u201d 2024\\u5e7411\\u67086\\u65e5  \\u514d\\u8d39\\u4e0b\\u8f7d \\u7ebd\\u7ea6\\u65f6\\u62a5\\u4e2d\\u6587\\u7f51 iOS \\u548c Android App \\u70b9\\u51fb\\u4e0b\\u8f7diOS App \\u70b9\\u51fb\\u4e0b\\u8f7dAndroid App \\u00a9 2024 The New York Times Company.\"}, {\"url\": \"https://www.dw.com/zh/\\u7279\\u6717\\u666e\\u80dc\\u9009\\u4e3a\\u4ec0\\u4e48\\u4ece\\u5f53\\u9009\\u603b\\u7edf\\u5230\\u5165\\u804c\\u8fd8\\u8981\\u7b49\\u5f85\\u90a3\\u4e48\\u957f\\u65f6\\u95f4/a-70720896\", \"content\": \"\\u7279\\u6717\\u666e\\u80dc\\u9009\\uff1a\\u4e3a\\u4ec0\\u4e48\\u4ece\\u5f53\\u9009\\u603b\\u7edf\\u5230\\u5165\\u804c\\u8fd8\\u8981\\u7b49\\u5f85\\u90a3\\u4e48\\u957f\\u65f6\\u95f4\\uff1f \\u2013 DW \\u2013 2024\\u5e7411\\u670810\\u65e5 \\u8df3\\u8f6c\\u81f3\\u5185\\u5bb9 \\u8df3\\u8f6c\\u81f3\\u4e3b\\u83dc\\u5355 \\u8df3\\u8f6c\\u5230\\u66f4\\u591aDW\\u7f51\\u7ad9 \\u6700\\u65b0\\u89c6\\u9891 \\u5730\\u533a \\u4e2d\\u56fd \\u5fb7\\u56fd \\u53f0\\u6e7e \\u6b27\\u6d32 \\u9999\\u6e2f \\u4e9a\\u6d32 \\u4e3b\\u9898 \\u4eba\\u6743 \\u65b0\\u95fb\\u81ea\\u7531 \\u6cd5\\u6cbb\\u56fd\\u5bb6 \\u6c14\\u5019\\u73af\\u5883 \\u5206\\u7c7b \\u653f\\u6cbb \\u7ecf\\u6d4e \\u6587\\u5316 \\u79d1\\u6280\\u521b\\u65b0 \\u7e41\\u7535\\u89c6\\u76f4\\u64ad\\u8282\\u76ee \\u6700\\u65b0\\u89c6\\u9891 \\u7126\\u70b9 APEC\\u4ee5\\u8272\\u5217-\\u54c8\\u9a6c\\u65af\\u6218\\u4e89\\u4fc4\\u7f57\\u65af\\u5165\\u4fb5\\u4e4c\\u514b\\u5170 \\u5e7f\\u544a \\u653f\\u6cbb\\u7f8e\\u56fd \\u7279\\u6717\\u666e\\u80dc\\u9009\\uff1a\\u4e3a\\u4ec0\\u4e48\\u4ece\\u5f53\\u9009\\u603b\\u7edf\\u5230\\u5165\\u804c\\u8fd8\\u8981\\u7b49\\u5f85\\u90a3\\u4e48\\u957f\\u65f6\\u95f4\\uff1f Clare Roth 2024\\u5e7411\\u670810\\u65e52024\\u5e7411\\u670810\\u65e5\\u7279\\u6717\\u666e\\u5ba3\\u5e03\\u5f53\\u9009\\u7f8e\\u56fd\\u7b2c47\\u4efb\\u603b\\u7edf\\uff0c\\u4f46\\u4ed6\\u7684\\u6b63\\u5f0f\\u5c31\\u804c\\u5178\\u793c\\u5374\\u8fd8\\u8981\\u7b49\\u4e0a11\\u5468\\u3002\\u4e3a\\u4ec0\\u4e48\\u8fd8\\u8981\\u7b49\\u8fd9\\u4e48\\u4e45\\uff1f\\u4ece11\\u67085\\u65e5\\u9009\\u4e3e\\u65e5\\u52301\\u670820\\u65e5\\u5c31\\u804c\\u65e5\\u4e4b\\u95f4\\uff0c\\u7f8e\\u56fd\\u653f\\u5e9c\\u8fd8\\u6709\\u90a3\\u4e9b\\u4e8b\\u8981\\u505a\\uff1f https://p.dw.com/p/4mjjc 11\\u67085\\u65e5\\uff0c\\u5de5\\u4f5c\\u4eba\\u5458\\u5728\\u5bbe\\u5915\\u6cd5\\u5c3c\\u4e9a\\u5dde\\u5207\\u65af\\u7279\\u53bf\\u5904\\u74062024\\u5e74\\u5927\\u9009\\u7684\\u90ae\\u5bc4\\u9009\\u7968\\u56fe\\u50cf\\u6765\\u6e90: Matt Slocum/AP Photo/picture alliance \\u5e7f\\u544a \\uff08\\u5fb7\\u56fd\\u4e4b\\u58f0\\u4e2d\\u6587\\u7f51\\uff09\\u7279\\u6717\\u666e\\u57282024\\u5e74\\u7f8e\\u56fd\\u603b\\u7edf\\u5927\\u9009\\u4e2d\\u6218\\u80dc\\u5361\\u739b\\u62c9\\u00b7\\u54c8\\u91cc\\u65af\\uff0c\\u5c06\\u91cd\\u8fd4\\u767d\\u5bab\\u3002\\u7136\\u800c\\uff0c\\u4ed6\\u8981\\u7b49\\u52302025\\u5e741\\u670820\\u65e5\\u624d\\u4f1a\\u6b63\\u5f0f\\u5ba3\\u8a93\\u5c31\\u804c\\u3002 \\u6cd5\\u56fd\\u603b\\u7edf\\u5728\\u5f53\\u9009\\u540e10\\u5929\\u5373\\u4e3e\\u884c\\u5c31\\u804c\\u5178\\u793c\\u3002\\u5728\\u82f1\\u56fd\\uff0c\\u8d62\\u5f97\\u5927\\u9009\\u8005\\u6b21\\u65e5\\u5c31\\u80fd\\u5ba3\\u8a93\\u4e0a\\u4efb\\u3002\\u7f8e\\u56fd\\u603b\\u7edf\\u5f53\\u9009\\u540e\\u7b49\\u5f8511\\u5468\\u5c31\\u804c\\u7684\\u610f\\u4e49\\u4f55\\u5728\\uff1f \\u7b49\\u5f85\\u671f\\u66fe\\u957f\\u8fbe4\\u4e2a\\u6708 \\u5386\\u53f2\\u4e0a\\uff0c\\u7f8e\\u56fd\\u603b\\u7edf\\u6b63\\u5f0f\\u5c31\\u804c\\u8981\\u7b49\\u5230\\u6b21\\u5e743\\u6708\\u624d\\u4e3e\\u884c\\uff0c\\u8fd9\\u610f\\u5473\\u7740\\u88ab\\u9009\\u4e0b\\u53f0\\u7684\\u653f\\u5e9c\\u53ef\\u80fd\\u5728\\u672a\\u6765\\u56db\\u4e2a\\u6708\\u91cc\\u4ecd\\u7136\\u638c\\u6743\\u3002\\u76f4\\u52301933\\u5e74\\uff0c\\u8fd9\\u4e00\\u6761\\u89c4\\u5b9a\\u624d\\u53d1\\u751f\\u4e86\\u6539\\u53d8\\uff0c\\u5f53\\u65f6\\u6b63\\u503c\\u7ecf\\u6d4e\\u5927\\u8427\\u6761\\u6700\\u4e25\\u91cd\\u65f6\\u671f\\u3002\\u968f\\u7740\\u7f8e\\u56fd\\u5baa\\u6cd5\\u7b2c20\\u6761\\u4fee\\u6b63\\u6848\\u7684\\u901a\\u8fc7\\uff0c\\u603b\\u7edf\\u5c31\\u804c\\u65e5\\u4ece3\\u67084\\u65e5\\u88ab\\u63d0\\u524d\\u52301\\u670820\\u65e5\\u3002 \\u5f53\\u65f6\\uff0c\\u7f8e\\u56fd\\u5931\\u4e1a\\u7387\\u9ad8\\u8fbe25%\\uff0c\\u521b\\u4e0b\\u5386\\u53f2\\u6700\\u9ad8\\u6c34\\u5e73\\u3002\\u65b0\\u5f53\\u9009\\u603b\\u7edf\\u7f57\\u65af\\u798f\\uff08Franklin D. Roosevelt\\uff09\\u8fd8\\u5728\\u7b49\\u5f85\\u5c31\\u804c\\uff0c\\u800c\\u65f6\\u4efb\\u603b\\u7edf\\u80e1\\u4f5b\\uff08Herbert Hoover\\uff09\\u5219\\u5df2\\\"\\u51e0\\u4e4e\\u4e0d\\u5728\\u767d\\u5bab\\\"\\uff0c\\u7f8e\\u56fd\\u4e54\\u6cbb\\u534e\\u76db\\u987f\\u5927\\u5b66\\u653f\\u6cbb\\u7ba1\\u7406\\u5b66\\u6559\\u6388\\u3001\\u5386\\u53f2\\u5b66\\u5bb6\\u9a6c\\u7279\\u00b7\\u8fbe\\u83b1\\u514b\\uff08Matt Dallek\\uff09\\u5728\\u7ed9\\u5fb7\\u56fd\\u4e4b\\u58f0\\u7684\\u90ae\\u4ef6\\u4e2d\\u5199\\u9053\\u3002 \\u5c06\\u5c31\\u804c\\u65e5\\u63d0\\u524d\\u65e8\\u5728\\\"\\u51cf\\u5c11\\u6df7\\u4e71\\u3001\\u4e0d\\u7a33\\u5b9a\\u548c\\u65e0\\u653f\\u5e9c\\u72b6\\u6001\\u7684\\u53ef\\u80fd\\u6027\\\"\\uff0c\\u8fbe\\u83b1\\u514b\\u8bf4\\u9053\\u3002 1933\\u5e743\\u6708\\uff0c\\u5df2\\u5f53\\u9009\\u603b\\u7edf\\u7684\\u7f57\\u65af\\u798f\\uff08\\u56fe\\uff09\\u5728\\u7b49\\u5f85\\u5c31\\u804c\\uff0c\\u65f6\\u4efb\\u603b\\u7edf\\u80e1\\u4f5b\\u5219\\u5728\\u7b49\\u5f85\\u4efb\\u671f\\u7ed3\\u675f\\u3002\\u8fd9\\u4e00\\u5e74\\uff0c\\u7f8e\\u56fd\\u906d\\u9047\\u5386\\u53f2\\u4e0a\\u6700\\u4e25\\u91cd\\u7ecf\\u6d4e\\u5371\\u673a\\u3002\\u56fe\\u50cf\\u6765\\u6e90: AP Photo/picture alliance \\u5bf9\\u9009\\u4e3e\\u7ed3\\u679c\\u8fdb\\u884c\\u8ba4\\u8bc1 \\u52a0\\u5dde\\u5927\\u5b66\\u6234\\u7ef4\\u65af\\u5206\\u6821\\u653f\\u6cbb\\u5b66\\u6559\\u6388\\u57c3\\u91cc\\u514b\\u00b7\\u6069\\u683c\\u65af\\u7279\\u7f57\\u59c6\\uff08Erik Engstrom\\uff09\\u5411\\u5fb7\\u56fd\\u4e4b\\u58f0\\u8868\\u793a\\uff0c\\u4ece\\u603b\\u7edf\\u5927\\u9009\\u5230\\u5ba3\\u8a93\\u5c31\\u804c\\uff0c\\u7f8e\\u56fd\\u603b\\u7edf\\u9009\\u4e3e\\u8fc7\\u7a0b\\u975e\\u5e38\\u590d\\u6742\\uff0c\\\"\\u9009\\u4e3e\\u673a\\u5236\\u975e\\u5e38\\u5206\\u6563\\u3002\\\" \\u9009\\u4e3e\\u65e5\\u7ed3\\u675f\\u540e\\uff0c\\u5168\\u56fd\\u6570\\u5343\\u4e2a\\u6295\\u7968\\u533a\\u7684\\u5de5\\u4f5c\\u4eba\\u5458\\u4f1a\\u7edf\\u8ba1\\u9009\\u7968\\u3002\\u7edf\\u8ba1\\u7ed3\\u679c\\u901a\\u5e38\\u4f1a\\u5728\\u9009\\u4e3e\\u4e4b\\u591c\\u6c47\\u96c6\\u81f3\\u5dde\\u7ea7\\u6570\\u636e\\u5e93\\u3002\\u5a92\\u4f53\\u7b49\\u5206\\u6790\\u673a\\u6784\\u4fbf\\u53ef\\u5728\\u5168\\u56fd\\u8303\\u56f4\\u5185\\u6839\\u636e\\u6536\\u96c6\\u5230\\u7684\\u9009\\u7968\\u6570\\u636e\\u5bf9\\u80dc\\u9009\\u8005\\u505a\\u51fa\\u9884\\u6d4b\\u3002 \\u5c3d\\u7ba1\\u7531\\u5a92\\u4f53\\u5ba3\\u5e03\\u7684\\u521d\\u6b65\\u5927\\u9009\\u7ed3\\u679c\\u5f80\\u5f80\\u90fd\\u53cd\\u6620\\u4e86\\u6700\\u7ec8\\u80dc\\u9009\\u8005\\uff0c\\u4f46\\u4ecd\\u88ab\\u89c6\\u4e3a\\u662f\\u975e\\u5b98\\u65b9\\u7684\\u3001\\u4e14\\u662f\\u672a\\u7ecf\\u8ba4\\u8bc1\\u7684\\u3002 \\u9009\\u4e3e\\u4e4b\\u591c\\u8fc7\\u540e\\uff0c\\u5404\\u5dde\\u5f00\\u59cb\\u8fdb\\u5165\\u9009\\u7968\\u8ba4\\u8bc1\\u7a0b\\u5e8f\\u3002\\u8ba4\\u8bc1\\u7a0b\\u5e8f\\u5305\\u62ec\\u68c0\\u67e5\\u88ab\\u6295\\u7968\\u673a\\u62d2\\u7edd\\u7684\\u9009\\u7968\\uff0c\\u5bf9\\u6295\\u7968\\u65e5\\u7ed3\\u675f\\u540e\\u6536\\u5230\\u7684\\u9009\\u7968\\u8fdb\\u884c\\u7edf\\u8ba1\\uff08\\u4f8b\\u5982\\u6765\\u81ea\\u5c45\\u4f4f\\u5728\\u6d77\\u5916\\u7684\\u7f8e\\u56fd\\u516c\\u6c11\\u7684\\u9009\\u7968\\uff09\\uff0c\\u4ee5\\u53ca\\u5904\\u7406\\u4e0e\\u5dde\\u6216\\u5e02\\u653f\\u5f53\\u5c40\\u5185\\u90e8\\u6295\\u7968\\u7edf\\u8ba1\\u76f8\\u5173\\u7684\\u4efb\\u4f55\\u51b2\\u7a81\\u3002 2000\\u5e74\\u6c11\\u4e3b\\u515a\\u5019\\u9009\\u4eba\\u6208\\u5c14\\uff08Albert Gore\\uff09\\u4e0e\\u5171\\u548c\\u515a\\u5019\\u9009\\u4eba\\u5c0f\\u5e03\\u4ec0\\uff08George Bush\\uff09\\u7684\\u603b\\u7edf\\u5927\\u9009\\u4e4b\\u4e89\\u4fbf\\u662f\\u5176\\u4e2d\\u4e00\\u4f8b\\u3002\\u6208\\u5c14\\u56e2\\u961f\\u4e0a\\u8bc9\\u8981\\u6c42\\u5bf9\\u4f5b\\u7f57\\u91cc\\u8fbe\\u5dde\\u7684\\u9009\\u7968\\u8fdb\\u884c\\u91cd\\u65b0\\u8ba1\\u7968\\uff0c\\u4e00\\u5ea6\\u83b7\\u5f97\\u652f\\u6301\\uff0c\\u4f46\\u5176\\u540e\\u5e03\\u4ec0\\u56e2\\u961f\\u4e0a\\u8bc9\\u81f3\\u6700\\u9ad8\\u6cd5\\u9662\\u3002\\u6700\\u7ec8\\u7ed3\\u679c\\u662f\\uff0c\\u6700\\u9ad8\\u6cd5\\u9662\\u4e8e2000\\u5e7412\\u67089\\u65e5\\u63a8\\u7ffb\\u4f5b\\u5dde\\u5730\\u65b9\\u6cd5\\u9662\\u7684\\u88c1\\u51b3\\u3002 \\u6700\\u9ad8\\u6cd5\\u96622000\\u5e7412\\u67089\\u65e5\\u5c31\\u5c0f\\u5e03\\u4ec0\\u4e0e\\u6208\\u5c14\\u9009\\u4e3e\\u7ea0\\u7eb7\\u6848\\u53ca\\u65f6\\u4f5c\\u51fa\\u88c1\\u51b3\\uff0c\\u4ee5\\u4fbf\\u9009\\u4e3e\\u4eba\\u53ef\\u572812\\u6708\\u4e2d\\u65ec\\u8fdb\\u884c\\u6295\\u7968\\uff0c\\u5e03\\u4ec0\\u4e5f\\u53ef\\u5728\\u6b21\\u5e741\\u670820\\u65e5\\u5ba3\\u8a93\\u5c31\\u804c\\u56fe\\u50cf\\u6765\\u6e90: Frazza/dpa/picture-alliance \\u9009\\u4e3e\\u4eba\\u7968 \\u5728\\u9009\\u7968\\u7edf\\u8ba1\\u5b8c\\u6210\\u3001\\u6240\\u6709\\u4e89\\u8bae\\u5f97\\u4ee5\\u89e3\\u51b3\\u540e\\uff0c\\u8ba1\\u7968\\u7ed3\\u679c\\u4f1a\\u88ab\\u9001\\u4ea4\\u5dde\\u653f\\u5e9c\\uff0c\\u7531\\u5dde\\u957f\\u8fdb\\u884c\\u8ba4\\u8bc1\\u3002 \\u4e0e\\u5927\\u591a\\u6570\\u56fd\\u5bb6\\u4e0d\\u540c\\uff0c\\u7f8e\\u56fd\\u603b\\u7edf\\u5e76\\u975e\\u901a\\u8fc7\\u76f4\\u9009\\u591a\\u6570\\u7968\\u9009\\u51fa\\uff0c\\u800c\\u662f\\u7531\\u7f8e\\u56fd\\u9009\\u4e3e\\u4eba\\u56e2\\u7684\\u9009\\u4e3e\\u4eba\\u9009\\u51fa\\u3002 \\u5728\\u7f8e\\u56fd\\u603b\\u7edf\\u5927\\u9009\\u4e2d\\uff0c\\u9009\\u6c11\\u5728\\u6295\\u7968\\u65f6\\u5b9e\\u9645\\u4e0a\\u5e76\\u4e0d\\u662f\\u5c06\\u7968\\u6295\\u7ed9\\u603b\\u7edf\\uff0c\\u800c\\u662f\\u6295\\u7968\\u7ed9\\u9009\\u4e3e\\u4eba\\u3002 \\u4ee5\\u5bc6\\u82cf\\u91cc\\u5dde\\u4e3a\\u4f8b\\uff0c\\u54c8\\u91cc\\u65af\\u548c\\u7279\\u6717\\u666e\\u4e89\\u593a\\u8be5\\u5dde\\u768410\\u5f20\\u9009\\u4e3e\\u4eba\\u7968\\u3002\\u7279\\u6717\\u666e\\u8d62\\u5f97\\u4e86\\u8be5\\u5dde\\u5927\\u591a\\u6570\\u9009\\u7968\\uff0c\\u56e0\\u6b64\\u5c31\\u8d62\\u5f97\\u4e86\\u5168\\u90e810\\u5f20\\u9009\\u4e3e\\u4eba\\u7968\\u3002\\u5019\\u9009\\u4eba\\u9700\\u8981\\u83b7\\u5f97270\\u5f20\\u9009\\u4e3e\\u4eba\\u7968\\u624d\\u80fd\\u8d62\\u5f97\\u9009\\u4e3e\\u3002 \\u56e0\\u6b64\\uff0c\\u5f53\\u5dde\\u957f\\u5bf9\\u7ed3\\u679c\\u8fdb\\u884c\\u8ba4\\u8bc1\\u65f6\\uff0c\\u5b9e\\u9645\\u4e0a\\u662f\\u5728\\u5bf9\\u9009\\u4e3e\\u4eba\\u540d\\u5355\\u8fdb\\u884c\\u8ba4\\u8bc1\\u3002 \\u8fd9\\u4e9b\\u9009\\u4e3e\\u4eba\\u4f1a\\u572812\\u6708\\u4e2d\\u65ec\\u4e3e\\u884c\\u4f1a\\u8bae\\uff0c\\u6295\\u51fa\\u8be5\\u5dde\\u7684\\u6b63\\u5f0f\\u9009\\u4e3e\\u4eba\\u7968\\u3002\\u8fd9\\u4e9b\\u7ed3\\u679c\\u968f\\u540e\\u4f1a\\u88ab\\u9001\\u4ea4\\u56fd\\u4f1a\\u3002 \\u56fd\\u4f1a\\u8ba1\\u7968 \\u56fd\\u4f1a\\u5c06\\u4e8e1\\u67086\\u65e5\\u53ec\\u5f00\\u4f1a\\u8bae\\uff0c\\u7edf\\u8ba1\\u4ece50\\u4e2a\\u5dde\\u6536\\u5230\\u7684\\u9009\\u4e3e\\u4eba\\u7968\\u3002\\u7f8e\\u56fd\\u526f\\u603b\\u7edf\\u5c06\\u4e3b\\u6301\\u4f1a\\u8bae\\u5e76\\u5ba3\\u5e03\\u80dc\\u9009\\u8005\\u30022021\\u5e74\\uff0c\\u7279\\u6717\\u666e\\u58f0\\u79f02020\\u5e74\\u9009\\u4e3e\\u88ab\\\"\\u7a83\\u53d6\\\"\\uff0c\\u5e76\\u717d\\u52a8\\u6781\\u53f3\\u7ffc\\u652f\\u6301\\u8005\\u57281\\u67086\\u65e5\\u51b2\\u51fb\\u56fd\\u4f1a\\uff0c\\u8bd5\\u56fe\\u963b\\u6b62\\u8ba1\\u7968\\u3002\\u4f46\\u6700\\u7ec8\\uff0c\\u62dc\\u767b\\u5728\\u5f53\\u5929\\u88ab\\u5ba3\\u5e03\\u4e3a\\u5408\\u6cd5\\u8d62\\u5f97\\u5927\\u9009\\u8005\\u3002 \\u63a5\\u4e0b\\u6765\\u7684\\u4e24\\u5468\\uff0c\\u76f4\\u81f31\\u670820\\u65e5\\u5c31\\u804c\\u65e5\\u524d\\uff0c\\u65b0\\u5f53\\u9009\\u603b\\u7edf\\u5c06\\u516c\\u5e03\\u5185\\u9601\\u6210\\u5458\\uff0c\\u5305\\u62ec\\u56fd\\u52a1\\u537f\\u3001\\u56fd\\u9632\\u90e8\\u957f\\u548c\\u53f8\\u6cd5\\u90e8\\u957f\\u7b49\\u804c\\u52a1\\u5728\\u5185\\u7684\\u4eba\\u9009\\u3002 \\u82e5\\u51fa\\u73b0\\u5e73\\u5c40\\u3001\\u4e24\\u4f4d\\u5019\\u9009\\u4eba\\u90fd\\u83b7\\u5f97269\\u5f20\\u9009\\u4e3e\\u4eba\\u7968\\uff1b\\u6216\\u8005\\u65e0\\u4eba\\u83b7\\u5f97\\u6240\\u9700270\\u5f20\\u9009\\u4e3e\\u4eba\\u7968\\u7684\\u7f55\\u89c1\\u60c5\\u51b5\\uff0c\\u5219\\u7531\\u4f17\\u8bae\\u9662\\uff08\\u7f8e\\u56fd\\u56fd\\u4f1a\\u4e0b\\u9662\\uff09\\u51b3\\u5b9a\\u80dc\\u9009\\u8005\\u3002 2021\\u5e741\\u67086\\u65e5\\uff0c\\u7f8e\\u56fd\\u56fd\\u4f1a\\u5c71\\u906d\\u5230\\u6781\\u53f3\\u7ffc\\u5206\\u5b50\\u66b4\\u529b\\u51b2\\u51fb\\u56fe\\u50cf\\u6765\\u6e90: Tayfun Coskun/AA/picture alliance \\u5386\\u53f2\\u4ea7\\u7269 \\u7f8e\\u56fd\\u5baa\\u6cd5\\u89c4\\u5b9a\\u7684\\u4ece11\\u6708\\u5927\\u9009\\u52301\\u6708\\u5ba3\\u8a93\\u5c31\\u804c\\u7684\\u65f6\\u95f4\\u8868\\u4e5f\\u6709\\u5176\\u5386\\u53f2\\u539f\\u56e0\\u3002 \\u7f8e\\u56fd\\u5bbe\\u5915\\u6cd5\\u5c3c\\u4e9a\\u5dde\\u7acb\\u5927\\u5b66\\u653f\\u6cbb\\u5b66\\u6559\\u6388\\u8fc8\\u514b\\u5c14\\u00b7\\u4f2f\\u514b\\u66fc\\uff08Michael Berkman\\uff09\\u5bf9\\u5fb7\\u56fd\\u4e4b\\u58f0\\u8868\\u793a\\uff1a\\\"\\u8fd9\\u5728\\u67d0\\u79cd\\u7a0b\\u5ea6\\u4e0a\\u662f\\u4e00\\u79cd\\u5386\\u53f2\\u4ea7\\u7269\\u3002\\\" \\\"\\u5f53\\u65f6\\uff0c\\u4ece\\u7f8e\\u56fd\\u5efa\\u56fd\\u521d\\u671f\\u768413\\u4e2a\\u5dde\\u524d\\u5f80\\u7ebd\\u7ea6\\u53c2\\u52a0\\u5c31\\u804c\\u5178\\u793c\\u9700\\u8981\\u5f88\\u957f\\u65f6\\u95f4\\uff0c\\\" \\u4f2f\\u514b\\u66fc\\u6559\\u6388\\u6307\\u7684\\u662f1789\\u5e74\\u7f8e\\u56fd\\u5baa\\u6cd5\\u5b9e\\u65bd\\u751f\\u6548\\u7684\\u65f6\\u671f\\u3002 \\u5f53\\u65f6\\uff0c\\u7f8e\\u56fd\\u653f\\u5e9c\\u4e2d\\u5fc3\\u4f4d\\u4e8e\\u7ebd\\u7ea6\\u3002\\u5404\\u5dde\\u524d\\u5f80\\u7ebd\\u7ea6\\u6240\\u82b1\\u8d39\\u7684\\u65f6\\u957f\\u5bf9\\u6574\\u4e2a\\u653f\\u5e9c\\u53ca\\u5176\\u6d41\\u7a0b\\u7684\\u8bbe\\u8ba1\\u4ea7\\u751f\\u4e86\\u91cd\\u5927\\u5f71\\u54cd\\u3002 \\u00a9 2024\\u5e74\\u5fb7\\u56fd\\u4e4b\\u58f0\\u7248\\u6743\\u58f0\\u660e\\uff1a\\u672c\\u6587\\u6240\\u6709\\u5185\\u5bb9\\u53d7\\u5230\\u8457\\u4f5c\\u6743\\u6cd5\\u4fdd\\u62a4\\uff0c\\u5982\\u65e0\\u5fb7\\u56fd\\u4e4b\\u58f0\\u7279\\u522b\\u6388\\u6743\\uff0c\\u4e0d\\u5f97\\u64c5\\u81ea\\u4f7f\\u7528\\u3002\\u4efb\\u4f55\\u4e0d\\u5f53\\u884c\\u4e3a\\u90fd\\u5c06\\u5bfc\\u81f4\\u8ffd\\u507f\\uff0c\\u5e76\\u53d7\\u5230\\u5211\\u4e8b\\u8ffd\\u7a76\\u3002 \\u53d1\\u9001\\u53cd\\u9988 \\u60a8\\u7684\\u610f\\u89c1\\u53cd\\u9988 \\u5e7f\\u544a \\u8df3\\u8f6c\\u81f3\\u4e0b\\u4e00\\u680f \\u76f8\\u5173\\u8bdd\\u9898 \\u76f8\\u5173\\u8bdd\\u9898 \\u5357\\u5e0c\\u00b7\\u4f69\\u6d1b\\u897f2024\\u5e74\\u7f8e\\u56fd\\u603b\\u7edf\\u5927\\u9009\\u7279\\u6717\\u666e\\u5361\\u739b\\u62c9\\u00b7\\u54c8\\u91cc\\u65af \\u5173\\u4e8eDW \\u672c\\u53f0\\u4ecb\\u7ecd\\u82f1\\u8bed \\u672c\\u53f0\\u65b0\\u95fb\\u82f1\\u8bed DW Global Media Forum\\u82f1\\u8bed DW \\u6559\\u5b78 \\u5b66\\u4e60\\u5fb7\\u8bed DW Akademie\\u82f1\\u8bed DW\\u670d\\u52a1 \\u8ba2\\u9605\\u65b0\\u95fb \\u6536\\u542c\\u5e7f\\u64ad\\u82f1\\u8bed \\u5e38\\u89c1\\u95ee\\u9898\\u82f1\\u8bed \\u8054\\u7cfb\\u6211\\u4eec\\u82f1\\u8bed \\u00a9 2024 Deutsche Welle\\u6570\\u636e\\u4fdd\\u62a4\\u8d23\\u4efb\\u58f0\\u660e\\u65e0\\u969c\\u788d\\u5185\\u5bb9\\u58f0\\u660e\\u9690\\u79c1\\u6570\\u636e\\u8bbe\\u7f6e\"}]\n",
      "Assistant: 根据最新的报道，唐纳德·特朗普在2024年美国总统选举中获胜，成为美国第47任总统。具体结果是在2024年11月6日的选举中确定的。特朗普的当选标志着他在经历了一段时间的政治争议后成功回归美国政治舞台。\n",
      "\n",
      "详细信息可以参考以下链接：\n",
      "- [纽约时报关于特朗普当选的报道](https://cn.nytimes.com/usa/20241106/trump-wins-presidency/)\n",
      "- [德国之声的相关分析](https://www.dw.com/zh/%E7%89%B9%E9%BB%91%E8%BF%BD%E6%9C%80%E4%BC%91%E6%97%A5%E7%99%BB%E4%B8%8D%E5%88%B0%E5%90%97/a-70720896)\n",
      "\n",
      "如需了解更多信息，请查看相关报道。\n"
     ]
    },
    {
     "name": "stdin",
     "output_type": "stream",
     "text": [
      "User:  特朗普当选总统意味着什么\n"
     ]
    },
    {
     "name": "stdout",
     "output_type": "stream",
     "text": [
      "Assistant: \n",
      "Assistant: [{\"url\": \"https://news.qq.com/rain/a/20241108A01I1K00\", \"content\": \"\\u200b\\u7279\\u6717\\u666e\\u518d\\u6b21\\u5f53\\u9009\\u7f8e\\u56fd\\u603b\\u7edf\\uff0c\\u5bf9\\u4e2d\\u56fd\\u610f\\u5473\\u7740\\u4ec0\\u4e48\\uff1f \\u534e\\u8bed\\u667a\\u5e93 2024-11-08 08:21\\u53d1\\u5e03\\u4e8e\\u5317\\u4eac\\u4e2d\\u56fd\\u653f\\u7b56\\u79d1\\u5b66\\u7814\\u7a76\\u4f1a\\u5b89\\u5168\\u653f\\u7b56\\u4e13\\u4e1a\\u59d4\\u5458\\u4f1a\\u65d7\\u4e0b\\u5b98\\u65b9\\u8d26\\u53f7 \\u4f5c\\u8005\\uff1a\\u8def\\u8a00 \\u7efc\\u5408\\u5a92\\u4f53\\u53cd\\u6620\\uff0c\\u5f53\\u5730\\u65f6\\u95f411\\u67086\\u65e5\\uff0c\\u7f8e\\u56fd\\u603b\\u7edf\\u5927\\u9009\\u521d\\u6b65\\u8ba1\\u7968\\u7ed3\\u679c\\u663e\\u793a\\uff0c\\u5171\\u548c\\u515a\\u5019\\u9009\\u4eba\\u7279\\u6717\\u666e\\u5df2\\u83b7\\u5f97\\u81f3\\u5c11277\\u5f20\\u9009\\u4e3e\\u4eba\\u7968\\uff0c\\u4ece\\u800c\\u51fb\\u8d25\\u6c11\\u4e3b\\u515a\\u5019\\u9009\\u4eba\\u54c8\\u91cc\\u65af\\u5f53\\u9009\\u7f8e\\u56fd\\u4e0b\\u4e00\\u5c4a\\u603b\\u7edf\\u3002 \\u7279\\u6717\\u666e\\u4f5c\\u4e3a\\u4e00\\u4f4d\\u6781\\u5177\\u4e89\\u8bae\\u7684\\u653f\\u6cbb\\u4eba\\u7269\\uff0c\\u5176\\u518d\\u6b21\\u5f53\\u9009\\u65e0\\u7591\\u5c06\\u5bf9\\u5168\\u7403\\u653f\\u6cbb\\u3001\\u7ecf\\u6d4e\\u548c\\u5b89\\u5168\\u683c\\u5c40\\u4ea7\\u751f\\u91cd\\u5927\\u5f71\\u54cd\\uff0c\\u9488\\u5bf9\\u5176\\u4e00\\u8d2f\\u5ba3\\u626c\\u7684\\u5bf9\\u534e\\u653f\\u7b56\\u4e3b\\u5f20\\u9700\\u5f15\\u8d77\\u8db3\\u591f\\u7684\\u91cd\\u89c6\\uff0c\\u5e76\\u6709\\u5fc5\\u8981\\u91c7\\u53d6\\u5177\\u4f53\\u3001\\u6709\\u6548\\u7684\\u5bf9\\u7b56\\u63aa\\u65bd\\u3002 \\u53ef\\u80fd\\u91c7\\u53d6\\u7684\\u5bf9\\u534e\\u653f\\u7b56 \\uff08\\u4e00\\uff09\\u7ecf\\u6d4e\\u8d38\\u6613\\u653f\\u7b56\\u3002 \\u7279\\u6717\\u666e\\u5728\\u7ade\\u9009\\u671f\\u95f4\\u591a\\u6b21\\u8868\\u793a\\uff0c\\u5982\\u679c\\u4ed6\\u518d\\u6b21\\u5f53\\u9009\\uff0c\\u5c06\\u7ee7\\u7eed\\u91c7\\u53d6\\u5f3a\\u786c\\u7684\\u8d38\\u6613\\u653f\\u7b56\\uff0c\\u7279\\u522b\\u662f\\u9488\\u5bf9\\u4e2d\\u56fd\\u3002\\u4ed6\\u626c\\u8a00\\u8981\\u5bf9\\u4e2d\\u56fd\\u5546\\u54c1\\u52a0\\u5f81\\u66f4\\u9ad8\\u7684\\u5173\\u7a0e\\uff0c\\u751a\\u81f3\\u63d0\\u51fa\\u5c06\\u81ea\\u534e\\u8fdb\\u53e3\\u5173\\u7a0e\\u4e00\\u5f8b\\u63d0\\u5347\\u81f360%\\uff0c\\u5e76\\u5e9f\\u9664\\u4e2d\\u56fd\\u7684\\u6700\\u60e0\\u56fd\\u5f85\\u9047\\u3002\\u7279\\u6717\\u666e\\u8fd8\\u8ba1\\u5212\\u5bf9\\u6240\\u6709\\u8fdb\\u53e3\\u4ea7\\u54c1\\u5f81\\u653620%\\u621610%\\u7684\\u5173\\u7a0e\\uff0c\\u5e76\\u5bf9\\u5728\\u58a8\\u897f\\u54e5\\u6216\\u4e2d\\u56fd\\u751f\\u4ea7\\u7684\\u5916\\u56fd\\u6c7d\\u8f66\\u5f81\\u6536\\u9ad8\\u8fbe100%\\u3001200%\\u3001\\u751a\\u81f32000%\\u7684\\u5173\\u7a0e\\u3002 \\u7279\\u6717\\u666e\\u82e5\\u5b9e\\u65bd\\u9ad8\\u5173\\u7a0e\\u653f\\u7b56\\uff0c\\u5c06\\u5bf9\\u4e2d\\u56fd\\u51fa\\u53e3\\u5230\\u7f8e\\u56fd\\u7684\\u5546\\u54c1\\u9020\\u6210\\u5de8\\u5927\\u51b2\\u51fb\\uff0c\\u5bfc\\u81f4\\u4e2d\\u56fd\\u51fa\\u53e3\\u589e\\u901f\\u653e\\u7f13\\uff0c\\u8fdb\\u800c\\u5f71\\u54cd\\u6574\\u4f53\\u7ecf\\u6d4e\\u589e\\u957f\\u3002\\u4e2d\\u56fd\\u51fa\\u53e3\\u4f01\\u4e1a\\u5c06\\u9762\\u4e34\\u8ba2\\u5355\\u51cf\\u5c11\\u3001\\u6210\\u672c\\u589e\\u52a0\\u7b49\\u95ee\\u9898\\uff0c\\u8fd9\\u5bf9\\u4f9d\\u8d56\\u7f8e\\u56fd\\u5e02\\u573a\\u7684\\u52b3\\u52a8\\u5bc6\\u96c6\\u578b\\u4ea7\\u4e1a\\u5c24\\u4e3a\\u4e0d\\u5229\\u3002\\u6b64\\u5916\\uff0c\\u4ed6\\u8ba1\\u5212\\u91c7\\u53d6\\u56db\\u5e74\\u5185\\u9010\\u6b65\\u53d6\\u6d88\\u6240\\u6709\\u4e2d\\u56fd\\u5fc5\\u9700\\u54c1\\u7684\\u8fdb\\u53e3\\uff0c\\u4ece\\u7535\\u5b50\\u4ea7\\u54c1\\u5230\\u94a2\\u94c1\\u5230\\u836f\\u54c1\\u3002 \\u4e0e\\u6b64\\u540c\\u65f6\\uff0c\\u7279\\u6717\\u666e\\u8fd8\\u53ef\\u80fd\\u7ee7\\u7eed\\u63a8\\u52a8\\u5bf9\\u4e2d\\u56fd\\u79d1\\u6280\\u4f01\\u4e1a\\u7684\\u9650\\u5236\\uff0c\\u52a0\\u5f3a\\u5bf9\\u534e\\u51fa\\u53e3\\u7ba1\\u5236\\uff0c\\u9650\\u5236\\u4e2d\\u56fd\\u4f01\\u4e1a\\u5728\\u7f8e\\u6295\\u8d44\\u3002\\u4ed6\\u5728\\u9996\\u4e2a\\u4efb\\u671f\\u5185\\u66fe\\u591a\\u6b21\\u901a\\u8fc7\\u884c\\u653f\\u547d\\u4ee4\\u548c\\u5236\\u88c1\\u624b\\u6bb5\\uff0c\\u5bf9\\u534e\\u4e3a\\u7b49\\u4e2d\\u56fd\\u79d1\\u6280\\u5de8\\u5934\\u65bd\\u52a0\\u4e25\\u5389\\u5236\\u88c1\\uff0c\\u963b\\u6b62\\u8fd9\\u4e9b\\u516c\\u53f8\\u83b7\\u5f97\\u5173\\u952e\\u6280\\u672f\\u548c\\u8bbe\\u5907\\uff0c\\u7279\\u522b\\u662f\\u5728\\u534a\\u5bfc\\u4f53\\u30015G\\u3001\\u4eba\\u5de5\\u667a\\u80fd\\u7b49\\u524d\\u6cbf\\u9886\\u57df\\u3002 \\u7279\\u6717\\u666e\\u518d\\u6b21\\u5f53\\u9009\\uff0c\\u53ef\\u80fd\\u4f1a\\u52a0\\u5927\\u5bf9\\u66f4\\u591a\\u4e2d\\u56fd\\u79d1\\u6280\\u516c\\u53f8\\u7684\\u5236\\u88c1\\uff0c\\u901a\\u8fc7\\u4e25\\u683c\\u7684\\u51fa\\u53e3\\u7ba1\\u5236\\uff0c\\u5c06\\u5305\\u62ec\\u9ad8\\u7aef\\u82af\\u7247\\u3001\\u8f6f\\u4ef6\\u3001\\u8bbe\\u5907\\u7b49\\u5728\\u5185\\u7684\\u5173\\u952e\\u6280\\u672f\\u5168\\u9762\\u201c\\u5c01\\u9501\\u201d\\u5728\\u7f8e\\u56fd\\u53ca\\u5176\\u76df\\u56fd\\u8303\\u56f4\\u5185\\u3002\\u800c\\u7279\\u6717\\u666e\\u7684\\u79d1\\u6280\\u9650\\u5236\\u63aa\\u65bd\\u5c06\\u8feb\\u4f7f\\u4e2d\\u56fd\\u52a0\\u5feb\\u81ea\\u4e3b\\u521b\\u65b0\\u7684\\u6b65\\u4f10\\uff0c\\u63a8\\u52a8\\u56fd\\u5185\\u79d1\\u6280\\u4ea7\\u4e1a\\u94fe\\u7684\\u5b8c\\u5584\\u548c\\u53d1\\u5c55\\u3002 \\u4f46\\u662f\\u77ed\\u671f\\u5185\\uff0c\\u4e2d\\u56fd\\u79d1\\u6280\\u4f01\\u4e1a\\u4ecd\\u7136\\u4f1a\\u9762\\u4e34\\u4e25\\u91cd\\u7684\\u4f9b\\u5e94\\u94fe\\u65ad\\u88c2\\u3001\\u5e02\\u573a\\u51c6\\u5165\\u53d7\\u963b\\u7b49\\u95ee\\u9898\\u3002\\u7279\\u6717\\u666e\\u7684\\u7ecf\\u6d4e\\u8131\\u94a9\\u653f\\u7b56\\u5c06\\u524a\\u5f31\\u4e2d\\u56fd\\u5728\\u5168\\u7403\\u4f9b\\u5e94\\u94fe\\u4e2d\\u7684\\u5730\\u4f4d\\uff0c\\u5bf9\\u4e2d\\u56fd\\u7684\\u5236\\u9020\\u4e1a\\u548c\\u51fa\\u53e3\\u9020\\u6210\\u8fdb\\u4e00\\u6b65\\u51b2\\u51fb\\uff0c\\u5c24\\u5176\\u662f\\u5728\\u7535\\u5b50\\u4ea7\\u54c1\\u3001\\u673a\\u68b0\\u8bbe\\u5907\\u3001\\u6c7d\\u8f66\\u914d\\u4ef6\\u7b49\\u5bf9\\u6b27\\u7f8e\\u5e02\\u573a\\u4f9d\\u8d56\\u5ea6\\u8f83\\u9ad8\\u7684\\u9886\\u57df\\u3002 \\u6709\\u5206\\u6790\\u8ba4\\u4e3a\\uff0c\\u7279\\u6717\\u666e\\u8fd8\\u53ef\\u80fd\\u63a8\\u52a8\\u4e2d\\u7f8e\\u4e24\\u56fd\\u5728\\u7ecf\\u6d4e\\u5c42\\u9762\\u7684\\u8131\\u94a9\\uff0c\\u9f13\\u52b1\\u7f8e\\u56fd\\u4f01\\u4e1a\\u5c06\\u751f\\u4ea7\\u548c\\u5236\\u9020\\u73af\\u8282\\u8fc1\\u56de\\u7f8e\\u56fd\\u6216\\u8fc1\\u5f80\\u5176\\u4ed6\\u56fd\\u5bb6\\u3002\\u4ed6\\u8ba1\\u5212\\u4e0e\\u5176\\u4ed6\\u56fd\\u5bb6\\u5408\\u4f5c\\uff0c\\u5efa\\u7acb\\u4e00\\u4e2a\\u201c\\u53bb\\u4e2d\\u56fd\\u5316\\u201d\\u7684\\u5168\\u7403\\u4f9b\\u5e94\\u94fe\\u4f53\\u7cfb\\uff0c\\u5c06\\u5370\\u5ea6\\u3001\\u8d8a\\u5357\\u3001\\u58a8\\u897f\\u54e5\\u7b49\\u53d1\\u5c55\\u4e2d\\u56fd\\u5bb6\\u4f5c\\u4e3a\\u65b0\\u7684\\u751f\\u4ea7\\u57fa\\u5730\\uff0c\\u4ee5\\u53d6\\u4ee3\\u4e2d\\u56fd\\u5728\\u5168\\u7403\\u5236\\u9020\\u4e1a\\u4e2d\\u7684\\u89d2\\u8272\\u3002\\u8fd9\\u5c06\\u524a\\u5f31\\u4e2d\\u56fd\\u5728\\u5168\\u7403\\u4f9b\\u5e94\\u94fe\\u4e2d\\u7684\\u5730\\u4f4d\\uff0c\\u540c\\u65f6\\u4e5f\\u53ef\\u80fd\\u52a0\\u901f\\u4e2d\\u7f8e\\u4e4b\\u95f4\\u7684\\u7ecf\\u6d4e\\u9694\\u9602\\u548c\\u5e02\\u573a\\u5206\\u5272\\u3002\\u6b64\\u5916\\uff0c\\u7279\\u6717\\u666e\\u8fd8\\u53ef\\u80fd\\u5bfb\\u6c42\\u8054\\u5408\\u76df\\u53cb\\uff0c\\u7ec4\\u5efa\\u9488\\u5bf9\\u4e2d\\u56fd\\u7684\\u56fd\\u9645\\u8054\\u76df\\uff0c\\u5728\\u8d38\\u6613\\u3001\\u79d1\\u6280\\u548c\\u5b89\\u5168\\u7b49\\u9886\\u57df\\u5bf9\\u4e2d\\u56fd\\u65bd\\u52a0\\u66f4\\u5927\\u538b\\u529b\\u3002 \\uff08\\u4e8c\\uff09\\u653f\\u6cbb\\u5916\\u4ea4\\u653f\\u7b56\\u3002 \\u7279\\u6717\\u666e\\u7684\\u5916\\u4ea4\\u653f\\u7b56\\u4e00\\u5411\\u5f3a\\u52bf\\u800c\\u591a\\u53d8\\u3002\\u4ed6\\u53ef\\u80fd\\u4f1a\\u7ee7\\u7eed\\u52a0\\u5f3a\\u4e0e\\u53f0\\u6e7e\\u3001\\u65e5\\u672c\\u548c\\u83f2\\u5f8b\\u5bbe\\u7684\\u5173\\u7cfb\\uff0c\\u589e\\u5f3a\\u7f8e\\u56fd\\u5728\\u5357\\u6d77\\u7b49\\u6218\\u7565\\u8981\\u5730\\u7684\\u519b\\u4e8b\\u5b58\\u5728\\uff0c\\u8fd9\\u5c06\\u5bfc\\u81f4\\u4e2d\\u7f8e\\u4e4b\\u95f4\\u7684\\u7d27\\u5f20\\u5173\\u7cfb\\u8fdb\\u4e00\\u6b65\\u5347\\u6e29\\uff0c\\u5bf9\\u4e2d\\u56fd\\u7684\\u4e3b\\u6743\\u548c\\u9886\\u571f\\u5b8c\\u6574\\u6784\\u6210\\u6311\\u6218\\u3002\\u53e6\\u5916\\uff0c\\u7279\\u6717\\u666e\\u7684\\u5916\\u4ea4\\u653f\\u7b56\\u4e00\\u5411\\u4ee5\\u201c\\u7f8e\\u56fd\\u4f18\\u5148\\u201d\\u4e3a\\u6838\\u5fc3\\uff0c\\u4ed6\\u53ef\\u80fd\\u4f1a\\u5728\\u56fd\\u9645\\u4e8b\\u52a1\\u4e2d\\u8fdb\\u4e00\\u6b65\\u524a\\u5f31\\u4e0e\\u4e2d\\u56fd\\u7684\\u5408\\u4f5c\\uff0c\\u5c24\\u5176\\u662f\\u5728\\u6c14\\u5019\\u53d8\\u5316\\u3001\\u5168\\u7403\\u536b\\u751f\\u548c\\u5168\\u7403\\u6cbb\\u7406\\u7b49\\u9886\\u57df\\u3002 \\u7279\\u6717\\u666e\\u8fd8\\u53ef\\u80fd\\u5728\\u5916\\u4ea4\\u4e0a\\u91c7\\u53d6\\u4e00\\u4e9b\\u51fa\\u4eba\\u610f\\u6599\\u7684\\u4e3e\\u52a8\\uff0c\\u5982\\u8bd5\\u56fe\\u7f13\\u548c\\u4e0e\\u4fc4\\u7f57\\u65af\\u7684\\u5173\\u7cfb\\uff0c\\u7ed3\\u675f\\u4fc4\\u4e4c\\u51b2\\u7a81\\u7b49\\u3002\\u800c\\u968f\\u7740\\u4fc4\\u7f8e\\u5173\\u7cfb\\u7684\\u7f13\\u548c\\uff0c\\u4fc4\\u7f57\\u65af\\u9762\\u4e34\\u7684\\u6765\\u81ea\\u7f8e\\u897f\\u65b9\\u7684\\u538b\\u529b\\u51cf\\u8f7b\\uff0c\\u8fd9\\u5728\\u5ba2\\u89c2\\u4e0a\\u53ef\\u80fd\\u5c06\\u4f7f\\u4e2d\\u56fd\\u72ec\\u7acb\\u9762\\u5bf9\\u65b0\\u7684\\u6218\\u7565\\u538b\\u529b\\u3002\\u8fd1\\u65e5\\uff0c\\u4fc4\\u603b\\u7edf\\u666e\\u4eac\\u53d1\\u8868\\u8bb2\\u8bdd\\uff0c\\u5f3a\\u70c8\\u8868\\u8fbe\\u4e86\\u7ed3\\u675f\\u4fc4\\u4e4c\\u51b2\\u7a81\\u7684\\u610f\\u613f\\u3002\\u800c\\u6b64\\u524d\\uff0c\\u7279\\u6717\\u666e\\u4e5f\\u591a\\u6b21\\u8868\\u793a\\u5982\\u679c\\u5176\\u5165\\u4e3b\\u767d\\u5bab\\uff0c\\u5c06\\u7acb\\u5373\\u89e3\\u51b3\\u4fc4\\u4e4c\\u51b2\\u7a81\\u95ee\\u9898\\u3002 \\u4f46\\u6709\\u5206\\u6790\\u8ba4\\u4e3a\\uff0c\\u7279\\u6717\\u666e\\u76ee\\u524d\\u66f4\\u52a0\\u5173\\u6ce8\\u4e2d\\u4e1c\\u5730\\u533a\\u5c40\\u52bf\\uff0c\\u5728\\u6b64\\u60c5\\u51b5\\u4e0b\\uff0c\\u5176\\u6267\\u653f\\u540e\\u5927\\u6982\\u7387\\u4f1a\\u51cf\\u5c11\\u7f8e\\u5bf9\\u4e4c\\u652f\\u6301\\uff0c\\u4f46\\u4fc3\\u6210\\u4fc4\\u4e4c\\u7b7e\\u7ea6\\u548c\\u89e3\\u7684\\u96be\\u5ea6\\u6bd4\\u8f83\\u5927\\u3002\\u53e6\\u5916\\uff0c\\u7ecf\\u8fc7\\u6b64\\u6b21\\u4fc4\\u4e4c\\u51b2\\u7a81\\u540e\\u7f8e\\u897f\\u65b9\\u5bf9\\u4fc4\\u7684\\u5f3a\\u70c8\\u538c\\u6076\\u6001\\u5ea6\\uff0c\\u751a\\u81f3\\u4e8e\\u65e5\\u672c\\u8822\\u8822\\u6b32\\u52a8\\uff0c\\u4f01\\u56fe\\u8d81\\u706b\\u6253\\u52ab\\uff0c\\u63a7\\u5236\\u5317\\u65b9\\u56db\\u5c9b\\u3002\\u8fd9\\u4e00\\u7cfb\\u5217\\u53cd\\u5e94\\u5c06\\u4fc3\\u4f7f\\u4fc4\\u7f57\\u65af\\u8ba4\\u6e05\\u73b0\\u5b9e\\uff0c\\u5728\\u4e00\\u65b9\\u9762\\u5bfb\\u6c42\\u7f13\\u548c\\u4e0e\\u7f8e\\u897f\\u65b9\\u5173\\u7cfb\\u7684\\u540c\\u65f6\\uff0c\\u53e6\\u4e00\\u65b9\\u9762\\u4ecd\\u4f1a\\u52aa\\u529b\\u4e0e\\u4e2d\\u56fd\\u4fdd\\u6301\\u7d27\\u5bc6\\u7684\\u6218\\u7565\\u534f\\u4f5c\\u3002\\u8fd9\\u5c06\\u5927\\u5927\\u589e\\u5f3a\\u4e2d\\u56fd\\u4e0e\\u7f8e\\u897f\\u65b9\\uff0c\\u5c24\\u5176\\u662f\\u5bf9\\u6b27\\u6d32\\u7684\\u8c08\\u5224\\u7b79\\u7801\\u3002 \\u53e6\\u5916\\uff0c\\u7279\\u6717\\u666e\\u7684\\u5bf9\\u534e\\u653f\\u7b56\\u53ef\\u80fd\\u66f4\\u52a0\\u52a1\\u5b9e\\uff0c\\u7b26\\u5408\\u540e\\u9738\\u6743\\u65f6\\u4ee3\\u5916\\u754c\\u5bf9\\u7f8e\\u56fd\\u56fd\\u5bb6\\u884c\\u4e3a\\u7684\\u9884\\u671f\\u3002\\u4ed6\\u53ef\\u80fd\\u4f1a\\u5c06\\u5bf9\\u534e\\u653f\\u7b56\\u66f4\\u591a\\u5730\\u5f15\\u5165\\u5546\\u4e1a\\u8c08\\u5224\\u601d\\u7ef4\\uff0c\\u5f3a\\u8c03\\u7f8e\\u56fd\\u80fd\\u4ece\\u4e2d\\u83b7\\u5f97\\u7684\\u201c\\u597d\\u5904\\u201d\\u3002\\u8fd9\\u79cd\\u601d\\u7ef4\\u53ef\\u80fd\\u4f7f\\u672a\\u6765\\u7684\\u4e2d\\u7f8e\\u5173\\u7cfb\\u66f4\\u52a0\\u6ce8\\u91cd\\u5229\\u76ca\\u4ea4\\u6362\\uff0c\\u4f46\\u4e5f\\u610f\\u5473\\u7740\\u7f8e\\u56fd\\u7684\\u610f\\u8bc6\\u5f62\\u6001\\u5bf9\\u6297\\u5c06\\u6709\\u6240\\u524a\\u5f31\\u3002 \\uff08\\u4e09\\uff09\\u519b\\u4e8b\\u5b89\\u5168\\u653f\\u7b56\\u3002 \\u7279\\u6717\\u666e\\u5728\\u53f0\\u6d77\\u95ee\\u9898\\u4e0a\\u6301\\u5f3a\\u786c\\u7acb\\u573a\\uff0c\\u4f46\\u66f4\\u53ef\\u80fd\\u901a\\u8fc7\\u7ecf\\u6d4e\\u624b\\u6bb5\\u800c\\u975e\\u519b\\u4e8b\\u5e72\\u9884\\u6765\\u5236\\u8861\\u4e2d\\u56fd\\u3002\\u4ed6\\u591a\\u6b21\\u8868\\u793a\\uff0c\\u5982\\u679c\\u5927\\u9646\\u91c7\\u53d6\\u4efb\\u4f55\\u7edf\\u4e00\\u884c\\u52a8\\uff0c\\u4ed6\\u5c06\\u8003\\u8651\\u5bf9\\u4e2d\\u56fd\\u5f81\\u6536\\u9ad8\\u8fbe150%\\u81f3200%\\u7684\\u5173\\u7a0e\\u3002\\u7279\\u6717\\u666e\\u9009\\u62e9\\u4e0d\\u4ecb\\u5165\\u53f0\\u6d77\\u51b2\\u7a81\\uff0c\\u65e2\\u7b26\\u5408\\u7f8e\\u56fd\\u9009\\u6c11\\u7684\\u610f\\u613f\\uff0c\\u4e5f\\u5951\\u5408\\u4ed6\\u7684\\u653f\\u7b56\\u521d\\u8877\\u2014\\u2014\\u4fdd\\u6301\\u7ecf\\u6d4e\\u5229\\u76ca\\u4e3a\\u5148\\uff0c\\u540c\\u65f6\\u4e0d\\u76f4\\u63a5\\u9677\\u5165\\u519b\\u4e8b\\u51b2\\u7a81\\u7684\\u6f29\\u6da1\\u3002\\u4f46\\u4e0d\\u6392\\u9664\\u7279\\u6717\\u666e\\u591a\\u53d8\\u7684\\u6267\\u653f\\u98ce\\u683c\\u5bfc\\u81f4\\u7f8e\\u56fd\\u5f53\\u5c40\\u5728\\u53f0\\u6e7e\\u95ee\\u9898\\u4e0a\\u6301\\u5f3a\\u786c\\u7acb\\u573a\\uff0c\\u53ef\\u80fd\\u91c7\\u53d6\\u7684\\u519b\\u4e8b\\u884c\\u52a8\\u4ecd\\u7136\\u5bf9\\u4e2d\\u56fd\\u6784\\u6210\\u5a01\\u80c1\\u3002 \\u7279\\u6717\\u666e\\u518d\\u5ea6\\u5165\\u4e3b\\u767d\\u5bab\\u4e4b\\u540e\\uff0c\\u53ef\\u80fd\\u4f1a\\u52a0\\u5f3a\\u4e0e\\u53f0\\u6e7e\\u7684\\u519b\\u4e8b\\u8054\\u7cfb\\uff0c\\u63d0\\u4f9b\\u519b\\u4e8b\\u652f\\u6301\\u548c\\u63f4\\u52a9\\uff0c\\u8fdb\\u4e00\\u6b65\\u5f00\\u5c55\\u519b\\u706b\\u8d38\\u6613\\uff0c\\u8fd9\\u5c06\\u52a0\\u5267\\u53f0\\u6d77\\u5c40\\u52bf\\u7684\\u7d27\\u5f20\\u3002\\u7279\\u6717\\u666e\\u8fd8\\u53ef\\u80fd\\u63a8\\u52a8\\u7f8e\\u56fd\\u4e0e\\u5176\\u4ed6\\u56fd\\u5bb6\\u5728\\u519b\\u4e8b\\u9886\\u57df\\u7684\\u5408\\u4f5c\\uff0c\\u5171\\u540c\\u5e94\\u5bf9\\u4e2d\\u56fd\\u3002\\u8fd9\\u5c06\\u4f7f\\u4e2d\\u56fd\\u9762\\u4e34\\u66f4\\u52a0\\u590d\\u6742\\u7684\\u519b\\u4e8b\\u5b89\\u5168\\u73af\\u5883\\uff0c \\u6211\\u4eec\\u8be5\\u5982\\u4f55\\u5e94\\u5bf9\\uff1f \\u7279\\u6717\\u666e\\u5f53\\u9009\\u5bf9\\u4e2d\\u56fd\\u7684\\u5f71\\u54cd\\u662f\\u591a\\u65b9\\u9762\\u7684\\uff0c\\u65e2\\u5305\\u62ec\\u6311\\u6218\\u4e5f\\u5305\\u62ec\\u673a\\u9047\\u3002\\u9762\\u5bf9\\u8fd9\\u4e9b\\u5f71\\u54cd\\uff0c\\u4e2d\\u56fd\\u9700\\u8981\\u575a\\u5b9a\\u7ef4\\u62a4\\u81ea\\u8eab\\u7684\\u6838\\u5fc3\\u5229\\u76ca\\uff0c\\u540c\\u65f6\\u79ef\\u6781\\u5bfb\\u6c42\\u4e0e\\u7f8e\\u56fd\\u5728\\u4e00\\u4e9b\\u9886\\u57df\\u7684\\u5bf9\\u8bdd\\u4e0e\\u5408\\u4f5c\\uff0c\\u5e76\\u5229\\u7528\\u4e2d\\u56fd\\u5728\\u4e16\\u754c\\u8d38\\u6613\\u4f53\\u7cfb\\u4e2d\\u7684\\u4f18\\u52bf\\u5730\\u4f4d\\uff0c\\u4e0e\\u66f4\\u591a\\u56fd\\u5bb6\\u548c\\u5730\\u533a\\u5c55\\u5f00\\u5408\\u4f5c\\uff0c\\u5206\\u6563\\u98ce\\u9669\\uff0c\\u901a\\u8fc7\\u7075\\u6d3b\\u5e94\\u5bf9\\u548c\\u4e3b\\u52a8\\u4f5c\\u4e3a\\uff0c\\u5728\\u590d\\u6742\\u591a\\u53d8\\u7684\\u56fd\\u9645\\u73af\\u5883\\u4e2d\\u5b9e\\u73b0\\u7a33\\u5065\\u53d1\\u5c55\\u3002 \\uff08\\u4e00\\uff09\\u653f\\u6cbb\\u5916\\u4ea4\\u65b9\\u9762 \\u5e94\\u4fdd\\u6301\\u51b7\\u9759\\u548c\\u7406\\u6027\\uff0c\\u79ef\\u6781\\u5e94\\u5bf9\\u7279\\u6717\\u666e\\u53ef\\u80fd\\u91c7\\u53d6\\u7684\\u5bf9\\u534e\\u653f\\u7b56\\u3002\\u4e00\\u65b9\\u9762\\u52a0\\u5f3a\\u4e0e\\u7f8e\\u56fd\\u7684\\u5bf9\\u8bdd\\u548c\\u6c9f\\u901a\\uff0c\\u901a\\u8fc7\\u534f\\u5546\\u548c\\u8c08\\u5224\\u89e3\\u51b3\\u8d38\\u6613\\u4e89\\u7aef\\u548c\\u79d1\\u6280\\u5206\\u6b67\\u3002\\u53e6\\u4e00\\u65b9\\u9762\\uff0c\\u52a0\\u5f3a\\u4e0e\\u5468\\u8fb9\\u56fd\\u5bb6\\u548c\\u5176\\u4ed6\\u53cb\\u597d\\u56fd\\u5bb6\\u7684\\u5173\\u7cfb\\uff0c\\u5728\\u653f\\u6cbb\\u548c\\u5b89\\u5168\\u65b9\\u9762\\uff0c\\u5c24\\u5176\\u8981\\u4fdd\\u6301\\u4e0e\\u4fc4\\u7f57\\u65af\\u7684\\u6218\\u7565\\u534f\\u8c03\\u4e0e\\u5408\\u4f5c\\uff0c\\u5de9\\u56fa\\u56fd\\u9645\\u5730\\u4f4d\\uff0c\\u4ee5\\u5171\\u540c\\u5e94\\u5bf9\\u6765\\u81ea\\u7f8e\\u6b27\\u65b9\\u9762\\u7684\\u5730\\u7f18\\u653f\\u6cbb\\u6311\\u6218\\u3002\\u4e3a\\u9632\\u6b62\\u7f8e\\u897f\\u65b9\\u5c06\\u8d38\\u6613\\u95ee\\u9898\\u653f\\u6cbb\\u5316\\uff0c\\u5728\\u5fc5\\u8981\\u65f6\\u5e94\\u575a\\u51b3\\u91c7\\u53d6\\u5bf9\\u7b49\\u53cd\\u5236\\u63aa\\u65bd\\uff0c\\u4ee5\\u7ecf\\u6d4e\\u5236\\u88c1\\u3001\\u8d38\\u6613\\u9650\\u5236\\u7b49\\u4e00\\u5207\\u624b\\u6bb5\\u4e88\\u4ee5\\u56de\\u51fb\\u3002 \\uff08\\u4e8c\\uff09\\u7ecf\\u6d4e\\u8d38\\u6613\\u65b9\\u9762 \\u4e00\\u662f\\u8fdb\\u4e00\\u6b65\\u52a0\\u5f3a\\u7ecf\\u6d4e\\u7684\\u81ea\\u4e3b\\u6027\\u548c\\u591a\\u5143\\u5316\\uff0c\\u52a0\\u5feb\\u7ecf\\u6d4e\\u7ed3\\u6784\\u7684\\u8c03\\u6574\\u548c\\u8f6c\\u578b\\uff0c\\u51cf\\u5c11\\u5bf9\\u7f8e\\u56fd\\u5e02\\u573a\\u7684\\u4f9d\\u8d56\\u3002\\u63a8\\u52a8\\u56fd\\u5185\\u5e02\\u573a\\u7684\\u6d88\\u8d39\\u5347\\u7ea7\\u548c\\u6269\\u5927\\u5185\\u9700\\uff0c\\u901a\\u8fc7\\u63d0\\u9ad8\\u5c45\\u6c11\\u6536\\u5165\\u548c\\u6539\\u5584\\u6d88\\u8d39\\u73af\\u5883\\uff0c\\u4fc3\\u8fdb\\u56fd\\u5185\\u5e02\\u573a\\u7684\\u7e41\\u8363\\u548c\\u53d1\\u5c55\\u3002\\u52a0\\u5f3a\\u4e0e\\u5176\\u4ed6\\u56fd\\u5bb6\\u7684\\u8d38\\u6613\\u5408\\u4f5c\\uff0c\\u5c24\\u5176\\u662f\\u4e0e\\u65b0\\u5174\\u5e02\\u573a\\u548c\\u53d1\\u5c55\\u4e2d\\u56fd\\u5bb6\\u7684\\u5408\\u4f5c\\uff0c\\u4ee5\\u591a\\u5143\\u5316\\u51fa\\u53e3\\u5e02\\u573a\\u548c\\u8fdb\\u53e3\\u6765\\u6e90\\u3002 \\u4e8c\\u662f\\u63a8\\u52a8\\u7ecf\\u6d4e\\u7ed3\\u6784\\u7684\\u4f18\\u5316\\u548c\\u4ea7\\u4e1a\\u5347\\u7ea7\\uff0c\\u901a\\u8fc7\\u53d1\\u5c55\\u9ad8\\u79d1\\u6280\\u4ea7\\u4e1a\\u548c\\u670d\\u52a1\\u4e1a\\uff0c\\u63d0\\u9ad8\\u7ecf\\u6d4e\\u7684\\u9644\\u52a0\\u503c\\u548c\\u7ade\\u4e89\\u529b\\uff0c\\u63a8\\u52a8\\u4ea7\\u4e1a\\u5347\\u7ea7\\uff0c\\u63d0\\u5347\\u5728\\u5168\\u7403\\u4ea7\\u4e1a\\u94fe\\u4e2d\\u7684\\u5730\\u4f4d\\u3002 \\u4e09\\u662f\\u79ef\\u6781\\u53c2\\u4e0e\\u56fd\\u9645\\u8d38\\u6613\\u89c4\\u5219\\u5236\\u5b9a\\u548c\\u6539\\u9769\\uff0c\\u5145\\u5206\\u4f53\\u73b0\\u4e2d\\u56fd\\u610f\\u5fd7\\u548c\\u5e7f\\u5927\\u53d1\\u5c55\\u4e2d\\u56fd\\u5bb6\\u613f\\u610f\\uff0c\\u63a8\\u52a8\\u5efa\\u7acb\\u66f4\\u52a0\\u516c\\u6b63\\u5408\\u7406\\u7684\\u56fd\\u9645\\u8d38\\u6613\\u4f53\\u7cfb\\u3002\\u52a0\\u5f3a\\u4e0e\\u5176\\u4ed6\\u56fd\\u5bb6\\u7684\\u7ecf\\u6d4e\\u5408\\u4f5c\\uff0c\\u5171\\u540c\\u5e94\\u5bf9\\u7279\\u6717\\u666e\\u7684\\u8d38\\u6613\\u4fdd\\u62a4\\u4e3b\\u4e49\\u653f\\u7b56\\u3002\\u56db\\u662f\\u52a0\\u5feb\\u91d1\\u878d\\u5e02\\u573a\\u7684\\u6539\\u9769\\u548c\\u5f00\\u653e\\uff0c\\u63d0\\u5347\\u91d1\\u878d\\u4f53\\u7cfb\\u7684\\u7a33\\u5b9a\\u6027\\u548c\\u6297\\u98ce\\u9669\\u80fd\\u529b\\u3002\\u5927\\u529b\\u57f9\\u80b2\\u8d44\\u672c\\u5e02\\u573a\\uff0c\\u52a0\\u5f3a\\u5236\\u5ea6\\u5efa\\u8bbe\\uff0c\\u51dd\\u805a\\u4eba\\u5fc3\\uff0c\\u51cf\\u5c11\\u5916\\u90e8\\u56e0\\u7d20\\u5bf9\\u56fd\\u5185\\u8d44\\u672c\\u5e02\\u573a\\u7684\\u5e72\\u6270\\u3002 \\uff08\\u4e09\\uff09\\u519b\\u4e8b\\u5b89\\u5168\\u65b9\\u9762 \\u4e00\\u662f\\u7ee7\\u7eed\\u52a0\\u5f3a\\u81ea\\u8eab\\u7684\\u519b\\u4e8b\\u529b\\u91cf\\u5efa\\u8bbe\\uff0c\\u63d0\\u9ad8\\u5e94\\u5bf9\\u5916\\u90e8\\u5a01\\u80c1\\u7684\\u80fd\\u529b\\u3002\\u52a0\\u5927\\u519b\\u4e8b\\u6295\\u5165\\uff0c\\u52a0\\u5f3a\\u6b66\\u5668\\u88c5\\u5907\\u7684\\u7814\\u53d1\\u548c\\u751f\\u4ea7\\uff0c\\u5c24\\u5176\\u662f\\u9ad8\\u7cbe\\u5c16\\u6b66\\u5668\\u88c5\\u5907\\uff0c\\u8fdb\\u4e00\\u6b65\\u63d0\\u9ad8\\u519b\\u961f\\u7684\\u73b0\\u4ee3\\u5316\\u6c34\\u5e73\\u3002\\u52a0\\u5f3a\\u519b\\u4e8b\\u8bad\\u7ec3\\u548c\\u6f14\\u4e60\\uff0c\\u63d0\\u9ad8\\u519b\\u961f\\u7684\\u5b9e\\u6218\\u80fd\\u529b\\u3002 \\u4e8c\\u662f\\u52a0\\u5f3a\\u7f51\\u7edc\\u5b89\\u5168\\u548c\\u4fe1\\u606f\\u5b89\\u5168\\uff0c\\u901a\\u8fc7\\u5b8c\\u5584\\u7f51\\u7edc\\u5b89\\u5168\\u6cd5\\u5f8b\\u3001\\u6cd5\\u89c4\\u548c\\u6280\\u672f\\u624b\\u6bb5\\uff0c\\u63d0\\u9ad8\\u7f51\\u7edc\\u5b89\\u5168\\u9632\\u5fa1\\u80fd\\u529b\\u548c\\u4fe1\\u606f\\u4fdd\\u62a4\\u6c34\\u5e73\\u3002\\u52a0\\u5f3a\\u60c5\\u62a5\\u641c\\u96c6\\u548c\\u53cd\\u95f4\\u8c0d\\u5de5\\u4f5c\\uff0c\\u901a\\u8fc7\\u52a0\\u5f3a\\u60c5\\u62a5\\u673a\\u6784\\u548c\\u53cd\\u95f4\\u8c0d\\u673a\\u6784\\u7684\\u5efa\\u8bbe\\u548c\\u80fd\\u529b\\u63d0\\u5347\\uff0c\\u63d0\\u9ad8\\u5bf9\\u5916\\u90e8\\u5a01\\u80c1\\u7684\\u9884\\u8b66\\u548c\\u5e94\\u5bf9\\u80fd\\u529b\\u3002 \\u4e09\\u662f\\u52a0\\u5f3a\\u4e0e\\u4fc4\\u7f57\\u65af\\u3001\\u671d\\u9c9c\\u7b49\\u5468\\u8fb9\\u56fd\\u5bb6\\u7684\\u519b\\u4e8b\\u5408\\u4f5c\\uff0c\\u4e92\\u4e3a\\u501a\\u9760\\uff0c\\u5171\\u540c\\u5e94\\u5bf9\\u5730\\u533a\\u5b89\\u5168\\u6311\\u6218\\u3002\\u56db\\u662f\\u79ef\\u6781\\u53c2\\u4e0e\\u5730\\u533a\\u5b89\\u5168\\u5bf9\\u8bdd\\u548c\\u5408\\u4f5c\\u673a\\u5236\\uff0c\\u660e\\u786e\\u8868\\u8fbe\\u4e2d\\u56fd\\u7684\\u519b\\u4e8b\\u5b89\\u5168\\u89c2\\u548c\\u7ef4\\u62a4\\u56fd\\u5bb6\\u5229\\u76ca\\u7684\\u51b3\\u5fc3\\uff0c\\u5c06\\u519b\\u4e8b\\u80fd\\u529b\\u8f6c\\u5316\\u4e3a\\u5a01\\u6151\\u529b\\uff0c\\u63a8\\u52a8\\u5efa\\u7acb\\u5145\\u5206\\u4f53\\u73b0\\u4e2d\\u56fd\\u610f\\u5fd7\\u7684\\u5730\\u533a\\u5b89\\u5168\\u5408\\u4f5c\\u6846\\u67b6\\u3002 \\u6b64\\u5916\\uff0c\\u5e94\\u52a0\\u5f3a\\u5bf9\\u7279\\u6717\\u666e\\u653f\\u7b56\\u7684\\u7814\\u7a76\\u548c\\u5206\\u6790\\uff0c\\u53ca\\u65f6\\u5236\\u5b9a\\u548c\\u8c03\\u6574\\u5e94\\u5bf9\\u7b56\\u7565\\u3002\\u5efa\\u7acb\\u8de8\\u90e8\\u95e8\\u534f\\u8c03\\u673a\\u5236\\uff0c\\u52a0\\u5f3a\\u653f\\u7b56\\u534f\\u540c\\u548c\\u4fe1\\u606f\\u5171\\u4eab\\uff0c\\u63d0\\u9ad8\\u5e94\\u5bf9\\u7279\\u6717\\u666e\\u653f\\u7b56\\u7684\\u80fd\\u529b\\u548c\\u6548\\u7387\\u3002\"}, {\"url\": \"https://www.abc.net.au/chinese/2024-11-07/what-donald-trump-winning-us-election-means-for-world/104571028\", \"content\": \"\\u54c8\\u91cc\\u65af\\u53d1\\u8868\\u8d25\\u9009\\u6f14\\u8bb2 \\u7279\\u6717\\u666e\\u5f53\\u9009\\u7f8e\\u56fd\\u603b\\u7edf\\u5bf9\\u4e16\\u754c\\u683c\\u5c40\\u610f\\u5473\\u7740\\u4ec0\\u4e48 - ABC News ABC News ABC ABC News ABC News News Home Topic:World Politics abc.net.au/news/what-donald-trump-winning-us-election-means-for-world/104571028 \\u9646\\u514b\\u6587\\u66fe\\u5f62\\u5bb9\\u7279\\u6717\\u666e\\u662f\\u201c\\u75af\\u5b50\\u201d\\u3002 (ABC News: Cameron Schwarz/Reuters:\\u00a0Alyssa Pointer) Loading YouTube content Loading Twitter content Loading Twitter content Loading Twitter content Loading Twitter content Loading Twitter content Loading Twitter content Share options*   Copy link Topic:US Elections Topic:US Elections Topic:US Elections Topic:US Elections Topic:US Elections Topic:Analysis Topic:World Politics1h ago1 hours agoThu 7 Nov 2024 at 12:27am Topic:US Elections13h ago13 hours agoWed 6 Nov 2024 at 12:47pm Topic:US Elections21h ago21 hours agoWed 6 Nov 2024 at 4:55am Topic:US Elections13h ago13 hours agoWed 6 Nov 2024 at 12:47pm ABC News homepage More From ABC NEWS ABC NEWS Connect with ABC News More from ABC News Contact ABC NEWS\"}]\n",
      "Assistant: 特朗普再次当选美国总统可能会对国内和国际产生深远的影响。根据最近的报道，以下是一些主要的影响：\n",
      "\n",
      "1. **经济政策**：特朗普可能会推动更为激进的经济政策，包括对中国商品加征关税，进一步强化美国制造业。他的政策可能会导致全球贸易关系的紧张，尤其是与中国的关系。\n",
      "\n",
      "2. **国际关系**：特朗普的外交政策倾向于“美国优先”，这意味着他可能会减少对国际组织的支持，重新审视与盟国的关系，并在一些国际问题上采取更为对抗的姿态，例如与俄罗斯和伊朗的关系。\n",
      "\n",
      "3. **国内政策**：特朗普的当选可能会导致国内政策的进一步极化，尤其在移民、环境政策和社会问题上。他可能会继续推动其“建墙”和其他移民限制政策，同时在环保法规方面采取更宽松的立场。\n",
      "\n",
      "4. **社会影响**：特朗普的当选可能会加剧美国社会的分裂，导致更激烈的政治斗争和社会抗议。他的言论和政策可能会引发支持者和反对者之间的冲突。\n",
      "\n",
      "5. **全球格局**：特朗普的当选也可能对全球政治格局产生影响，尤其是在气候变化、贸易和安全等领域的国际合作方面。\n",
      "\n",
      "整体而言，特朗普的再次当选可能会带来一系列复杂的国际和国内挑战，影响全球政治和经济的走向。\n"
     ]
    },
    {
     "name": "stdin",
     "output_type": "stream",
     "text": [
      "User:  q\n"
     ]
    },
    {
     "name": "stdout",
     "output_type": "stream",
     "text": [
      "Goodbye!\n"
     ]
    }
   ],
   "source": [
    "from langchain_core.messages import BaseMessage\n",
    "\n",
    "# 进入一个无限循环，用于模拟持续的对话\n",
    "while True:\n",
    "    # 获取用户输入\n",
    "    user_input = input(\"User: \")\n",
    "    \n",
    "    # 如果用户输入 \"quit\"、\"exit\" 或 \"q\"，则退出循环，结束对话\n",
    "    if user_input.lower() in [\"quit\", \"exit\", \"q\"]:\n",
    "        print(\"Goodbye!\")  # 打印告别语\n",
    "        break  # 退出循环\n",
    "\n",
    "    # 使用 graph.stream 处理用户输入，并生成机器人的回复\n",
    "    # \"messages\" 列表中包含用户的输入，传递给对话系统\n",
    "    for event in graph.stream({\"messages\": [(\"user\", user_input)]}):\n",
    "        \n",
    "        # 遍历 event 的所有值，检查是否是 BaseMessage 类型的消息\n",
    "        for value in event.values():\n",
    "            if isinstance(value[\"messages\"][-1], BaseMessage):\n",
    "                # 如果消息是 BaseMessage 类型，则打印机器人的回复\n",
    "                print(\"Assistant:\", value[\"messages\"][-1].content)\n"
   ]
  },
  {
   "cell_type": "markdown",
   "id": "1f02dd51-1a42-4b00-bc45-4fb619f55ad0",
   "metadata": {},
   "source": [
    "------------"
   ]
  },
  {
   "cell_type": "markdown",
   "id": "31f64614",
   "metadata": {},
   "source": [
    "\n",
    "## 搜索引擎工具赋能前后对比\n",
    "\n",
    "下面对比使用 搜索引擎工具前后，chatbot 生成结果对比\n",
    "\n",
    "\n",
    "### 用户问题\n",
    "\n",
    "```shell\n",
    "User:  详细介绍下 LangGraph 项目\n",
    "```\n",
    "\n",
    "### ChatBot + Web Search Tool（整合搜索结果后生成正确回答）\n",
    "\n",
    "```\n",
    "Assistant: LangGraph 是一个用于构建具有状态的、多参与者应用程序的库，特别是与大型语言模型（LLMs）结合使用。它主要用于创建代理和多代理工作流。与其他 LLM 框架相比，LangGraph 提供了一些核心优势，包括循环、可控性和持久性。\n",
    "\n",
    "### 主要特点\n",
    "1. **循环**：LangGraph 允许定义涉及循环的流程，这对大多数代理架构至关重要。\n",
    "2. **可控性**：用户可以更好地控制工作流的执行。\n",
    "3. **持久性**：能够保存状态，使得应用程序能够在不同的会话中保持一致性。\n",
    "\n",
    "LangGraph 的设计使其能够处理复杂的多代理环境，支持用户定义和管理参与者之间的交互。它基于有向无环图（DAG）的解决方案，使得构建和维护复杂工作流变得更加高效。\n",
    "\n",
    "### 资源链接\n",
    "- [LangGraph GitHub](https://github.com/langchain-ai/langgraph)\n",
    "- [LangGraph 官方文档](https://github.langchain.ac.cn/langgraph/)\n",
    "```\n",
    "\n",
    "### ChatBot-only（模型自己编造的 LangGraph 项目描述）\n",
    "\n",
    "```\n",
    "Assistant: LangGraph 是一个旨在推动自然语言处理（NLP）和图形结构数据结合的项目。它通常涉及将语言模型与图形数据结构相结合，以便更有效地处理和理解复杂的关系和语义信息。以下是 LangGraph 项目的一些关键要素：\n",
    "\n",
    "1. **目标与愿景**：\n",
    "   LangGraph 的主要目标是通过将语言理解与图形表示结合起来，增强机器对人类语言的理解能力。这种结合可以使机器更好地处理信息，识别和推理出不同实体之间的关系。\n",
    "\n",
    "2. **图形结构**：\n",
    "   在 LangGraph 中，图形结构通常用于表示实体及其之间的关系。这种结构可以是知识图谱、社交网络图或其他形式的图形数据，能够捕捉到丰富的语义信息。\n",
    "\n",
    "3. **语言模型**：\n",
    "   LangGraph 通常与先进的语言模型（如 BERT、GPT 等）集成，这些模型能够处理和生成自然语言文本。通过将语言模型与图形结构结合，LangGraph 可以在回答问题、信息检索和对话系统等任务中表现得更为出色。\n",
    "\n",
    "4. **应用场景**：\n",
    "   LangGraph 可以应用于多个领域，包括：\n",
    "   - **信息检索**：通过图谱增强搜索引擎的理解能力，提高检索结果的相关性。\n",
    "   - **对话系统**：改善虚拟助手和聊天机器人的对话能力，使其能够进行更自然和智能的交互。\n",
    "   - **知识管理**：在企业和组织中，通过图形结构更好地组织和管理知识。\n",
    "\n",
    "5. **研究与发展**：\n",
    "   LangGraph 还可能涉及大量的研究工作，包括图神经网络（GNN）、知识图谱的构建和更新、以及如何更好地将语言模型与图形数据结合的方法。\n",
    "\n",
    "6. **开源与社区**：\n",
    "   LangGraph 项目通常鼓励开源和社区参与，以促进技术的快速发展和应用。开发者和研究人员可以贡献代码、文档和其他资源，推动项目的进步。\n",
    "\n",
    "总之，LangGraph 是一个前沿项目，旨在通过将语言处理与图形数据结合，提升机器对自然语言的理解和处理能力。这一领域的发展将对人工智能和数据科学产生深远的影响。\n",
    "```"
   ]
  },
  {
   "cell_type": "markdown",
   "id": "c9fbba90-b3d2-4614-99f8-adad9b7e6c0f",
   "metadata": {},
   "source": [
    "------------\n",
    "\n",
    "# Homework: \n",
    "\n",
    "1. 运行和测试第1部分的聊天机器人（ChatBot-Only），并尝试找到一个其无法回答正确的事实性问题。\n",
    "1. 使用联网查询工具（如：Tavily），在第2部分的聊天机器人（ChatBot + Tool）上测试相同问题，并对比生成结果。 "
   ]
  },
  {
   "cell_type": "markdown",
   "id": "40e91d18-e480-41ea-95d2-e4f34f419d14",
   "metadata": {},
   "source": [
    "------\n",
    "\n",
    "##"
   ]
  },
  {
   "cell_type": "markdown",
   "id": "c82108f5",
   "metadata": {},
   "source": [
    "## 第 3 部分：为聊天机器人添加记忆功能\n",
    "\n",
    "目前机器人可以使用工具来回答问题，但它还无法记住之前的对话内容。为了解决这个问题，我们将为机器人添加记忆功能，让它能够维护对话状态并实现多轮对话。\n",
    "\n",
    "-----------"
   ]
  },
  {
   "cell_type": "markdown",
   "id": "e230fe85",
   "metadata": {},
   "source": [
    "`MemorySaver` 是 LangGraph 中的一个检查点机制（checkpointing），用于保存和恢复对话或任务执行的状态。通过 `MemorySaver`，我们可以在每个步骤后保存机器人的状态，并在之后恢复对话，允许机器人具有“记忆”功能，支持多轮对话、错误恢复、时间旅行等功能。\n",
    "\n",
    "### `MemorySaver` 的核心功能\n",
    "\n",
    "1. **状态持久化**：\n",
    "   - `MemorySaver` 以内存的形式保存对话或任务的当前状态。在每次状态图（StateGraph）执行时，`MemorySaver` 会记录执行到某个节点的状态，并将状态保存在内存中。\n",
    "   - 在实际应用中，可以替换成 `SqliteSaver` 或 `PostgresSaver`，将状态保存到数据库中，以便在系统重新启动后仍能恢复之前的对话。\n",
    "   - 参考文档：https://langchain-ai.github.io/langgraph/how-tos/persistence/\n",
    "\n",
    "2. **多轮对话支持**：\n",
    "   - 使用 `MemorySaver`，每次调用状态图时，都会将对话的上下文保存下来。当用户重新发送消息时，机器人可以加载先前的状态，继续进行对话，而不会丢失上下文。\n",
    "   - 例如，用户可以在多轮对话中提到之前的内容，机器人能够记住这些信息并做出相应的反应。\n",
    "\n",
    "3. **错误恢复**：\n",
    "   - 在任务执行过程中，如果发生了错误，`MemorySaver` 可以帮助机器人恢复到之前的状态，从而重试任务或采取其他措施来处理错误。\n",
    "   - 它可以让机器人在任务失败或异常时从上一次成功的状态继续执行，而无需从头开始。\n",
    "\n",
    "4. **时间旅行**：\n",
    "   - `MemorySaver` 还支持时间旅行功能。开发者可以回溯到之前的某个对话状态，从那个时间点继续执行不同的分支，这在调试和交互式应用中非常有用。\n",
    "   - 用户或开发者可以选择从某个保存的状态点重新开始，并探索不同的执行路径。\n",
    "\n",
    "### 使用场景\n",
    "\n",
    "- **对话系统**：当用户和机器人之间进行多轮对话时，机器人需要记住之前的消息和上下文，以便提供连续性的回复。`MemorySaver` 能帮助机器人保存对话的状态，并在下次调用时恢复先前的对话。\n",
    "  \n",
    "- **任务执行系统**：在复杂任务执行流程中，如果发生中断或错误，`MemorySaver` 能帮助系统从最近的检查点恢复，继续完成未完成的任务。\n",
    "\n",
    "- **调试与实验**：开发者可以通过保存多个状态检查点，回溯到不同的状态节点，进行调试或探索不同的对话分支和执行路径。\n",
    "\n",
    "### 代码示例\n",
    "\n",
    "```python\n",
    "from langgraph.checkpoint.memory import MemorySaver\n",
    "\n",
    "# 创建内存检查点\n",
    "memory = MemorySaver()\n",
    "\n",
    "# 在编译图时，将 MemorySaver 作为检查点传递\n",
    "graph = graph_builder.compile(checkpointer=memory)\n",
    "\n",
    "# 执行状态图，保存当前对话的状态\n",
    "config = {\"configurable\": {\"thread_id\": \"1\"}}\n",
    "events = graph.stream({\"messages\": [(\"user\", \"Hi, what's the weather today?\")]}, config)\n",
    "\n",
    "# 在下次调用时，从内存检查点恢复对话状态\n",
    "events = graph.stream({\"messages\": [(\"user\", \"Can you tell me tomorrow's weather too?\")]}, config)\n",
    "```\n",
    "\n",
    "### 总结\n",
    "\n",
    "`MemorySaver` 是 LangGraph 中用于在内存中保存对话状态的机制，支持机器人的多轮对话、状态恢复和时间旅行等功能。它通过检查点机制，使机器人可以在任务或对话的不同阶段保存并恢复状态，从而提高对话系统的连续性和容错能力。\n"
   ]
  },
  {
   "cell_type": "markdown",
   "id": "2918a620",
   "metadata": {},
   "source": [
    "### 1. 创建 MemorySaver 检查点\n",
    "\n"
   ]
  },
  {
   "cell_type": "code",
   "execution_count": 18,
   "id": "f1093d11",
   "metadata": {},
   "outputs": [],
   "source": [
    "from langgraph.checkpoint.memory import MemorySaver\n",
    "\n",
    "# 创建内存检查点\n",
    "memory = MemorySaver()"
   ]
  },
  {
   "cell_type": "markdown",
   "id": "890ecf8c",
   "metadata": {},
   "source": [
    "\n"
   ]
  },
  {
   "cell_type": "markdown",
   "id": "718e277e",
   "metadata": {},
   "source": [
    "### 2. 使用检查点编译图\n",
    "\n"
   ]
  },
  {
   "cell_type": "markdown",
   "id": "b436f151",
   "metadata": {},
   "source": [
    "在编译图时，我们将提供检查点功能，机器人可以在每个步骤中保存状态。\n",
    "\n"
   ]
  },
  {
   "cell_type": "code",
   "execution_count": 19,
   "id": "eaf106fd",
   "metadata": {},
   "outputs": [],
   "source": [
    "graph = graph_builder.compile(checkpointer=memory)"
   ]
  },
  {
   "cell_type": "code",
   "execution_count": 20,
   "id": "da903750-f00b-4208-8bb4-460a768843c9",
   "metadata": {},
   "outputs": [
    {
     "data": {
      "image/png": "[encoded data removed]",
      "text/plain": [
       "<IPython.core.display.Image object>"
      ]
     },
     "metadata": {},
     "output_type": "display_data"
    }
   ],
   "source": [
    "display(Image(graph.get_graph().draw_mermaid_png()))"
   ]
  },
  {
   "cell_type": "markdown",
   "id": "8b0b3e5a",
   "metadata": {},
   "source": [
    "\n"
   ]
  },
  {
   "cell_type": "markdown",
   "id": "a04a076a",
   "metadata": {},
   "source": [
    "### 3. 执行聊天机器人\n",
    "\n",
    "我们仍然按照之前的方式执行机器人，只是这次它会在每一步保存对话状态。"
   ]
  },
  {
   "cell_type": "markdown",
   "id": "8fb3dfde",
   "metadata": {},
   "source": [
    "\n",
    "#### 代码解析\n",
    "\n",
    "1. **config 配置**：\n",
    "   - `config` 是一个包含对话线程信息的字典，用于指定本次对话的唯一线程 ID。在这个例子中，`thread_id` 被设置为 `\"1\"`，这意味着该对话会与该线程关联。\n",
    "   - 每个线程 ID 代表一个独立的对话流，使用 `MemorySaver` 时，机器人可以在同一个 `thread_id` 下记住对话的上下文。\n",
    "\n",
    "2. **用户输入消息**：\n",
    "   - `user_input` 表示用户的输入消息，在这里用户输入了 `\"Hi there! My name is Peng.\"`。这个消息将作为对话的起始消息传递给机器人。\n",
    "\n",
    "3. **graph.stream**：\n",
    "   - `graph.stream` 是用于执行状态图的函数。它会根据传入的消息和配置执行对话流程。\n",
    "   - `{\"messages\": [(\"user\", user_input)]}`：第一个参数包含用户的输入消息。消息格式是一个元组，`(\"user\", user_input)` 表示这是来自用户的消息。\n",
    "   - `config`：第二个参数指定对话的线程配置，这里使用 `{\"configurable\": {\"thread_id\": \"1\"}}`，表示这次对话属于线程 ID 为 `1` 的对话流。\n",
    "   - `stream_mode=\"values\"`：设置流模式为 `\"values\"`，表示返回消息中的内容数据。\n",
    "\n",
    "4. **遍历事件并打印消息**：\n",
    "   - `for event in events` 遍历每个从 `graph.stream` 中返回的事件，`event[\"messages\"][-1]` 获取每个事件中的最后一条消息。\n",
    "   - `pretty_print()`：调用消息对象的 `pretty_print()` 方法来格式化并打印消息的内容。这通常用于输出对话中的 AI 响应或工具调用结果。\n"
   ]
  },
  {
   "cell_type": "code",
   "execution_count": 21,
   "id": "6a3d3d84",
   "metadata": {},
   "outputs": [
    {
     "name": "stdout",
     "output_type": "stream",
     "text": [
      "================================\u001b[1m Human Message \u001b[0m=================================\n",
      "\n",
      "Hi there! My name is Peng.\n",
      "==================================\u001b[1m Ai Message \u001b[0m==================================\n",
      "\n",
      "Hello, Peng! How can I assist you today?\n"
     ]
    }
   ],
   "source": [
    "config = {\"configurable\": {\"thread_id\": \"1\"}}\n",
    "\n",
    "# 用户输入的消息\n",
    "user_input = \"Hi there! My name is Peng.\"\n",
    "\n",
    "# 第二个参数 config 用于设置对话线程 ID\n",
    "# 在这里，\"thread_id\" 是唯一标识符，用于保存和区分对话线程。\n",
    "# 每个对话线程的状态将由 MemorySaver 保存下来，因此可以跨多轮对话继续进行。\n",
    "events = graph.stream(\n",
    "    {\"messages\": [(\"user\", user_input)]},  # 第一个参数传入用户的输入消息，消息格式为 (\"user\", \"输入内容\")\n",
    "    config,  # 第二个参数用于指定线程配置，包含线程 ID\n",
    "    stream_mode=\"values\"  # stream_mode 设置为 \"values\"，表示返回流式数据的值\n",
    ")\n",
    "\n",
    "# 遍历每个事件，并打印最后一条消息的内容\n",
    "for event in events:\n",
    "    # 通过 pretty_print 打印最后一条消息的内容\n",
    "    event[\"messages\"][-1].pretty_print()"
   ]
  },
  {
   "cell_type": "markdown",
   "id": "4b24b166",
   "metadata": {},
   "source": [
    "\n"
   ]
  },
  {
   "cell_type": "markdown",
   "id": "c2a5dee8",
   "metadata": {},
   "source": [
    "在下次执行时，机器人将记住之前的对话内容：\n",
    "\n"
   ]
  },
  {
   "cell_type": "code",
   "execution_count": 22,
   "id": "95c7f93d",
   "metadata": {},
   "outputs": [
    {
     "name": "stdout",
     "output_type": "stream",
     "text": [
      "================================\u001b[1m Human Message \u001b[0m=================================\n",
      "\n",
      "Remember my name?\n",
      "==================================\u001b[1m Ai Message \u001b[0m==================================\n",
      "\n",
      "Yes, I remember your name is Peng! How can I help you today?\n"
     ]
    }
   ],
   "source": [
    "user_input = \"Remember my name?\"\n",
    "\n",
    "events = graph.stream(\n",
    "    {\"messages\": [(\"user\", user_input)]},\n",
    "    config,\n",
    "    stream_mode=\"values\"\n",
    ")\n",
    "\n",
    "for event in events:\n",
    "    event[\"messages\"][-1].pretty_print()"
   ]
  },
  {
   "cell_type": "markdown",
   "id": "06a52aae",
   "metadata": {},
   "source": [
    "\n"
   ]
  },
  {
   "cell_type": "markdown",
   "id": "a53f7e73",
   "metadata": {},
   "source": [
    "通过这两步操作，您已经成功为机器人添加了对话记忆功能，它可以记住之前的交互，并在后续的对话中做出相应的回应。\n",
    "\n"
   ]
  },
  {
   "cell_type": "code",
   "execution_count": 23,
   "id": "8b8df867",
   "metadata": {},
   "outputs": [
    {
     "name": "stdout",
     "output_type": "stream",
     "text": [
      "================================\u001b[1m Human Message \u001b[0m=================================\n",
      "\n",
      "Remember my name?\n",
      "==================================\u001b[1m Ai Message \u001b[0m==================================\n",
      "\n",
      "I don't have the ability to remember personal information or previous interactions, so I don't know your name. Can you please remind me?\n"
     ]
    }
   ],
   "source": [
    "# 机器人仅记住同一个线程中的历史对话，尝试切换到线程2\n",
    "events = graph.stream(\n",
    "    {\"messages\": [(\"user\", user_input)]},\n",
    "    {\"configurable\": {\"thread_id\": \"2\"}},\n",
    "    stream_mode=\"values\",\n",
    ")\n",
    "for event in events:\n",
    "    event[\"messages\"][-1].pretty_print()"
   ]
  },
  {
   "cell_type": "markdown",
   "id": "ae90b143",
   "metadata": {},
   "source": [
    "\n"
   ]
  },
  {
   "cell_type": "markdown",
   "id": "f023df43",
   "metadata": {},
   "source": [
    "检查点让机器人可以记住对话状态，您可以通过 `get_state` 函数查看机器人当前的状态：\n",
    "\n"
   ]
  },
  {
   "cell_type": "code",
   "execution_count": 24,
   "id": "bb8b2464",
   "metadata": {},
   "outputs": [
    {
     "data": {
      "text/plain": [
       "StateSnapshot(values={'messages': [HumanMessage(content='Hi there! My name is Peng.', additional_kwargs={}, response_metadata={}, id='6eb13e53-ed84-4082-8df5-c30efb960300'), AIMessage(content='Hello, Peng! How can I assist you today?', additional_kwargs={'refusal': None}, response_metadata={'token_usage': {'completion_tokens': 12, 'prompt_tokens': 87, 'total_tokens': 99, 'completion_tokens_details': {'accepted_prediction_tokens': 0, 'audio_tokens': 0, 'reasoning_tokens': 0, 'rejected_prediction_tokens': 0}, 'prompt_tokens_details': {'audio_tokens': 0, 'cached_tokens': 0}}, 'model_name': 'gpt-4o-mini-2024-07-18', 'system_fingerprint': 'fp_0705bf87c0', 'finish_reason': 'stop', 'logprobs': None}, id='run-d3948fd3-8ffb-4559-a28c-4ec4ef357d5b-0', usage_metadata={'input_tokens': 87, 'output_tokens': 12, 'total_tokens': 99, 'input_token_details': {'audio': 0, 'cache_read': 0}, 'output_token_details': {'audio': 0, 'reasoning': 0}}), HumanMessage(content='Remember my name?', additional_kwargs={}, response_metadata={}, id='74456bfb-c352-4bf6-a8b8-ce78923f5772'), AIMessage(content='Yes, I remember your name is Peng! How can I help you today?', additional_kwargs={'refusal': None}, response_metadata={'token_usage': {'completion_tokens': 17, 'prompt_tokens': 110, 'total_tokens': 127, 'completion_tokens_details': {'accepted_prediction_tokens': 0, 'audio_tokens': 0, 'reasoning_tokens': 0, 'rejected_prediction_tokens': 0}, 'prompt_tokens_details': {'audio_tokens': 0, 'cached_tokens': 0}}, 'model_name': 'gpt-4o-mini-2024-07-18', 'system_fingerprint': 'fp_0705bf87c0', 'finish_reason': 'stop', 'logprobs': None}, id='run-095a0f1c-fb1e-4439-b4e1-4f16df1edce4-0', usage_metadata={'input_tokens': 110, 'output_tokens': 17, 'total_tokens': 127, 'input_token_details': {'audio': 0, 'cache_read': 0}, 'output_token_details': {'audio': 0, 'reasoning': 0}})]}, next=(), config={'configurable': {'thread_id': '1', 'checkpoint_ns': '', 'checkpoint_id': '1efb1899-5e01-64b5-8004-fee0e41df4d9'}}, metadata={'source': 'loop', 'writes': {'chatbot': {'messages': [AIMessage(content='Yes, I remember your name is Peng! How can I help you today?', additional_kwargs={'refusal': None}, response_metadata={'token_usage': {'completion_tokens': 17, 'prompt_tokens': 110, 'total_tokens': 127, 'completion_tokens_details': {'accepted_prediction_tokens': 0, 'audio_tokens': 0, 'reasoning_tokens': 0, 'rejected_prediction_tokens': 0}, 'prompt_tokens_details': {'audio_tokens': 0, 'cached_tokens': 0}}, 'model_name': 'gpt-4o-mini-2024-07-18', 'system_fingerprint': 'fp_0705bf87c0', 'finish_reason': 'stop', 'logprobs': None}, id='run-095a0f1c-fb1e-4439-b4e1-4f16df1edce4-0', usage_metadata={'input_tokens': 110, 'output_tokens': 17, 'total_tokens': 127, 'input_token_details': {'audio': 0, 'cache_read': 0}, 'output_token_details': {'audio': 0, 'reasoning': 0}})]}}, 'thread_id': '1', 'step': 4, 'parents': {}}, created_at='2024-12-03T15:16:35.490117+00:00', parent_config={'configurable': {'thread_id': '1', 'checkpoint_ns': '', 'checkpoint_id': '1efb1899-5736-69c2-8003-4fdfad3a9249'}}, tasks=())"
      ]
     },
     "execution_count": 24,
     "metadata": {},
     "output_type": "execute_result"
    }
   ],
   "source": [
    "snapshot = graph.get_state(config)\n",
    "snapshot"
   ]
  },
  {
   "cell_type": "markdown",
   "id": "9b33358b-945d-419e-acaa-11cb5eaccdd9",
   "metadata": {},
   "source": [
    "### 使用 Pandas 表格呈现状态\n",
    "\n",
    "对于其中的 messages 等结构化数据，可以将其转换为 Pandas DataFrame 进行展示。"
   ]
  },
  {
   "cell_type": "code",
   "execution_count": 25,
   "id": "6e7e6291-acef-44f5-97f6-fd542d16cc86",
   "metadata": {},
   "outputs": [
    {
     "ename": "ModuleNotFoundError",
     "evalue": "No module named 'pandas'",
     "output_type": "error",
     "traceback": [
      "\u001b[1;31m---------------------------------------------------------------------------\u001b[0m",
      "\u001b[1;31mModuleNotFoundError\u001b[0m                       Traceback (most recent call last)",
      "Cell \u001b[1;32mIn[25], line 1\u001b[0m\n\u001b[1;32m----> 1\u001b[0m \u001b[38;5;28;01mimport\u001b[39;00m \u001b[38;5;21;01mpandas\u001b[39;00m \u001b[38;5;28;01mas\u001b[39;00m \u001b[38;5;21;01mpd\u001b[39;00m\n\u001b[0;32m      3\u001b[0m \u001b[38;5;66;03m# 将消息内容转换为 DataFrame 显示\u001b[39;00m\n\u001b[0;32m      4\u001b[0m messages \u001b[38;5;241m=\u001b[39m snapshot\u001b[38;5;241m.\u001b[39mvalues[\u001b[38;5;124m'\u001b[39m\u001b[38;5;124mmessages\u001b[39m\u001b[38;5;124m'\u001b[39m]\n",
      "\u001b[1;31mModuleNotFoundError\u001b[0m: No module named 'pandas'"
     ]
    }
   ],
   "source": [
    "import pandas as pd\n",
    "\n",
    "# 将消息内容转换为 DataFrame 显示\n",
    "messages = snapshot.values['messages']\n",
    "df = pd.DataFrame([{\n",
    "    'content': msg.content,\n",
    "    'message_id': msg.id,\n",
    "    'type': type(msg).__name__,\n",
    "    'token_usage': msg.response_metadata.get('token_usage') if hasattr(msg, 'response_metadata') else None\n",
    "} for msg in messages])\n",
    "\n",
    "df  # Jupyter 会自动渲染 DataFrame"
   ]
  },
  {
   "cell_type": "markdown",
   "id": "a2128bcb",
   "metadata": {},
   "source": [
    "\n"
   ]
  },
  {
   "cell_type": "markdown",
   "id": "16c557f8",
   "metadata": {},
   "source": [
    "---\n",
    "\n"
   ]
  },
  {
   "cell_type": "markdown",
   "id": "15417aa1",
   "metadata": {},
   "source": [
    "## 第 4 部分：引入人类审查\n",
    "\n"
   ]
  },
  {
   "cell_type": "markdown",
   "id": "55389548",
   "metadata": {},
   "source": [
    "有时机器人可能需要人类的介入来做出复杂决策，或者某些任务需要人类批准。LangGraph 支持这种“人类参与”的工作流，您可以在对话中加入人类审查。\n",
    "\n",
    "第4部分，主要展示了如何通过 LangGraph 进行多轮对话和工具调用，并且能够手动更新对话状态、插入工具调用的结果，之后继续执行对话。"
   ]
  },
  {
   "cell_type": "markdown",
   "id": "21516923",
   "metadata": {},
   "source": [
    "### 1. 编译图时添加中断\n",
    "\n"
   ]
  },
  {
   "cell_type": "markdown",
   "id": "22974e2c",
   "metadata": {},
   "source": [
    "我们可以通过 `interrupt_before` 参数，在工具节点执行之前中断对话，让人类有机会审查。\n",
    "\n",
    "\n",
    "**编译状态图**：\n",
    "   - `graph_builder.compile()` 用于编译状态图，生成可执行的 `CompiledGraph` 对象。\n",
    "   - `checkpointer=memory` 使用内存作为检查点保存对话状态。\n",
    "   - `interrupt_before=[\"tools\"]` 表示在执行 \"tools\" 节点之前中断，允许手动干预。"
   ]
  },
  {
   "cell_type": "code",
   "execution_count": null,
   "id": "6a9dc7e7",
   "metadata": {},
   "outputs": [],
   "source": [
    "# 编译状态图，指定在工具节点之前进行中断\n",
    "graph = graph_builder.compile(\n",
    "    checkpointer=memory,  # 使用 MemorySaver 作为检查点系统\n",
    "    interrupt_before=[\"tools\"],  # 在进入 \"tools\" 节点前进行中断\n",
    ")"
   ]
  },
  {
   "cell_type": "code",
   "execution_count": null,
   "id": "68c4a8ca-67cc-44a5-8ee3-3bb4167ae07b",
   "metadata": {},
   "outputs": [],
   "source": [
    "display(Image(graph.get_graph().draw_mermaid_png()))"
   ]
  },
  {
   "cell_type": "markdown",
   "id": "c7a29fe2",
   "metadata": {},
   "source": [
    "\n"
   ]
  },
  {
   "cell_type": "markdown",
   "id": "cc93cf40",
   "metadata": {},
   "source": [
    "### 2. 执行对话并在工具调用前中断\n",
    "\n"
   ]
  },
  {
   "cell_type": "markdown",
   "id": "12c06a58",
   "metadata": {},
   "source": [
    "我们现在来执行对话，并在工具节点之前进行中断，以便人类介入。\n",
    "\n"
   ]
  },
  {
   "cell_type": "code",
   "execution_count": null,
   "id": "e9bc5112",
   "metadata": {},
   "outputs": [],
   "source": [
    "# 用户输入的消息\n",
    "user_input = \"我正在学习LangGraph。你能帮我做一些研究吗？\"\n",
    "# 配置新的对话线程 ID，用于保存和恢复对话状态\n",
    "config = {\"configurable\": {\"thread_id\": \"3\"}}\n",
    "\n",
    "# 使用 stream 方法处理用户输入并返回事件\n",
    "events = graph.stream(\n",
    "    {\"messages\": [(\"user\", user_input)]},\n",
    "    config,\n",
    "    stream_mode=\"values\"\n",
    ")\n",
    "\n",
    "# 遍历每个事件并输出最后一条消息的内容\n",
    "for event in events:\n",
    "    if \"messages\" in event:\n",
    "        event[\"messages\"][-1].pretty_print()  # 打印消息内容"
   ]
  },
  {
   "cell_type": "markdown",
   "id": "10ea1621",
   "metadata": {},
   "source": [
    "\n"
   ]
  },
  {
   "cell_type": "markdown",
   "id": "f6a7db0f",
   "metadata": {},
   "source": [
    "检查图的状态，确认已经中断。\n",
    "\n",
    "**获取状态快照**：\n",
    "   - 使用 `graph.get_state(config)` 获取当前对话的状态快照。\n",
    "   - `snapshot.next` 显示下一个将要执行的节点（在中断时为 \"tools\" 节点）。"
   ]
  },
  {
   "cell_type": "code",
   "execution_count": null,
   "id": "3894534a",
   "metadata": {},
   "outputs": [],
   "source": [
    "# 获取当前对话的状态快照\n",
    "snapshot = graph.get_state(config)\n",
    "# 查看快照中下一个要执行的节点\n",
    "snapshot.next"
   ]
  },
  {
   "cell_type": "markdown",
   "id": "448e17fc-9ebb-407c-8d8b-40c4dbb7f654",
   "metadata": {},
   "source": [
    "请注意，与上次不同，“下一个”节点被设置为'tools'。我们在这里中断了！让我们检查一下工具调用。"
   ]
  },
  {
   "cell_type": "code",
   "execution_count": null,
   "id": "a568e527-28b7-412f-8a48-d22e4ad55d90",
   "metadata": {},
   "outputs": [],
   "source": [
    "existing_message = snapshot.values[\"messages\"][-1]\n",
    "existing_message.tool_calls"
   ]
  },
  {
   "cell_type": "markdown",
   "id": "95436842-b3fa-4e0e-80f9-eed3aaa8f709",
   "metadata": {},
   "source": [
    "这个查询看起来很合理。这里没有需要过滤的内容。人类能做的最简单的事情就是让图形继续执行。我们在下面这样做。\n",
    "\n",
    "**接下来，继续执行图！**\n",
    "\n",
    "传入 `None` 便是让图从它停止的地方继续，而不会向状态中添加任何新内容。"
   ]
  },
  {
   "cell_type": "code",
   "execution_count": null,
   "id": "fd1c0708-cbf9-4040-8365-f2c162468689",
   "metadata": {},
   "outputs": [],
   "source": [
    "events = graph.stream(None, config, stream_mode=\"values\")\n",
    "for event in events:\n",
    "    if \"messages\" in event:\n",
    "        event[\"messages\"][-1].pretty_print()"
   ]
  },
  {
   "cell_type": "code",
   "execution_count": null,
   "id": "6db4ea6f-15cf-44b8-a47f-3c69a7943ec2",
   "metadata": {},
   "outputs": [],
   "source": []
  },
  {
   "cell_type": "markdown",
   "id": "347b87fc",
   "metadata": {},
   "source": [
    "### 3. 人工介入，修改工具执行结果"
   ]
  },
  {
   "cell_type": "markdown",
   "id": "7365a2b7",
   "metadata": {},
   "source": [
    "我们直接使用人工定义的内容，作为工具的返回结果。\n",
    "\n",
    "**手动插入工具调用结果**：\n",
    "   - 创建一个 `ToolMessage` 消息对象，内容是手动提供的工具调用结果，如 `\"LangGraph 是一个用于构建状态化、多参与者应用的库\"`。\n",
    "   - `tool_call_id` 使用之前的工具调用 ID 来关联这个工具调用消息。\n",
    "\n",
    "**更新状态**：\n",
    "   - 通过 `graph.update_state(config, {\"messages\": [tool_message]})` 手动更新对话状态，插入新的工具调用结果。\n",
    "\n",
    "**继续执行对话**：\n",
    "   - 使用 `graph.stream(None, config)` 继续执行对话，处理工具调用后的节点。\n",
    "   - 打印后续生成的消息，显示机器人对工具调用结果的响应。\n",
    "\n",
    "**工具调用最终输出是人工手动输入的内容**"
   ]
  },
  {
   "cell_type": "code",
   "execution_count": null,
   "id": "c95a79df",
   "metadata": {},
   "outputs": [],
   "source": [
    "# 手动生成一个工具调用的消息，并更新到对话状态中\n",
    "tool_message = ToolMessage(\n",
    "    content=\"LangGraph 是一个用于构建状态化、多参与者应用的库。\",  # 工具调用返回的内容\n",
    "    tool_call_id=snapshot.values[\"messages\"][-1].tool_calls[0][\"id\"]  # 关联工具调用的 ID\n",
    ")\n",
    "\n",
    "# 更新对话状态，加入工具调用的结果\n",
    "graph.update_state(config, {\"messages\": [tool_message]})\n",
    "\n",
    "# 继续执行对话，查看工具调用后的后续处理\n",
    "events = graph.stream(None, config, stream_mode=\"values\")\n",
    "\n",
    "for event in events:\n",
    "    event[\"messages\"][-1].pretty_print()  # 打印后续生成的消息内容"
   ]
  },
  {
   "cell_type": "markdown",
   "id": "5bbdf42b",
   "metadata": {},
   "source": [
    "---------\n",
    "\n",
    "## 第5部分： 查看 ChatBot 历史对话\n",
    "\n",
    "在 LangGraph 中，可以使用 `graph.get_state_history()` 来获取对话的所有历史状态。\n",
    "\n",
    "传入参数：`{\"configurable\": {\"thread_id\": \"1\"}}`，可以获取指定线程的对话状态。\n",
    "\n",
    "```python\n",
    "# 获取指定线程 ID 的所有历史状态\n",
    "history = graph.get_state_history({\"configurable\": {\"thread_id\": \"1\"}})\n",
    "\n",
    "# 遍历历史记录，打印每个状态中的所有消息\n",
    "for state in history:\n",
    "    print(\"=== 对话历史 ===\")\n",
    "    # 遍历每个状态中的消息记录\n",
    "    for message in state.values[\"messages\"]:\n",
    "        if isinstance(message, BaseMessage):\n",
    "            # 根据消息类型区分用户与机器人\n",
    "            if \"user\" in message.content.lower():\n",
    "                print(f\"User: {message.content}\")\n",
    "            else:\n",
    "                print(f\"Assistant: {message.content}\")\n",
    "```\n",
    "\n",
    "\n",
    "### **为什么不用 events 获取历史？**\n",
    "\n",
    "如果您使用 events，每次调用 graph.stream() 时，您只能获取当前的对话步骤，而不是之前的对话记录。要保留对话历史，您需要在每次获取 events 时将结果手动保存，这样会增加复杂度。\n",
    "\n",
    "\n",
    "### 对话历史去重\n",
    "\n",
    "直接运行上面的代码，可能会出现重复的对话历史。\n",
    "\n",
    "- **问题来源**：重复的状态快照和无消息的中间状态导致了多次重复的对话历史和空对话历史。\n",
    "\n",
    "为了处理这些问题，我们可以引入更严格的过滤条件，并确保只打印那些包含**新消息**或有效消息的状态。\n",
    "\n",
    "- **解决方案**：通过检查消息类型和 ID 来过滤无效和重复的消息，并只输出真正包含对话内容的状态快照。\n",
    "\n",
    "### 代码解析\n",
    "\n",
    "1. **`valid_messages` 列表**：这段代码检查每条消息是否是 `BaseMessage` 类型，同时确保该消息之前没有被处理过。如果消息符合这些条件，则被视为有效消息。\n",
    "\n",
    "2. **输出条件**：只有当存在有效消息时，才打印 `=== 对话历史 ===`，否则打印 `=== 空对话历史（无有效消息） ===`。\n",
    "\n",
    "3. **避免重复输出**：通过 `seen_message_ids` 集合来存储已经处理过的消息 ID，确保每条消息只被打印一次，防止重复输出。"
   ]
  },
  {
   "cell_type": "code",
   "execution_count": null,
   "id": "f8e2fe74-4dd8-4cd8-9b30-2a34efaf53da",
   "metadata": {},
   "outputs": [],
   "source": [
    "# 获取指定线程 ID 的所有历史状态\n",
    "history = graph.get_state_history({\"configurable\": {\"thread_id\": \"3\"}})\n",
    "\n",
    "# 使用集合存储已处理过的消息 ID\n",
    "seen_message_ids = set()\n",
    "\n",
    "# 遍历历史记录，打印每个状态中的所有消息\n",
    "for state in history:\n",
    "    # 获取状态中的消息列表\n",
    "    messages = state.values.get(\"messages\", [])\n",
    "    \n",
    "    # 检查是否存在至少一条未处理的 BaseMessage 类型的消息\n",
    "    valid_messages = [msg for msg in messages if isinstance(msg, BaseMessage) and msg.id not in seen_message_ids]\n",
    "    \n",
    "    if valid_messages:\n",
    "        print(\"=== 对话历史 ===\")\n",
    "        for message in valid_messages:\n",
    "            seen_message_ids.add(message.id)  # 记录消息 ID，避免重复处理\n",
    "            if \"user\" in message.content.lower():\n",
    "                print(f\"User: {message.content}\")\n",
    "            else:\n",
    "                print(f\"Assistant: {message.content}\")\n",
    "    else:\n",
    "        print(\"=== 空对话历史（无有效消息） ===\")"
   ]
  },
  {
   "cell_type": "code",
   "execution_count": null,
   "id": "43681f46-8d20-4002-92c3-f121cd52a8a8",
   "metadata": {},
   "outputs": [],
   "source": []
  },
  {
   "cell_type": "code",
   "execution_count": null,
   "id": "5778ec5f-13e3-40f9-b17b-769e87e8980e",
   "metadata": {},
   "outputs": [],
   "source": []
  },
  {
   "attachments": {},
   "cell_type": "markdown",
   "id": "82f58d4f-87a7-4d5d-b962-553b66407812",
   "metadata": {},
   "source": [
    "# Homework: \n",
    "\n",
    "1. 运行和测试第1部分的聊天机器人（ChatBot-Only），并尝试找到一个其无法回答正确的事实性问题。\n",
    "1. 使用联网查询工具（如：Tavily），在第2部分的聊天机器人（ChatBot + Tool）上测试相同问题，并对比生成结果。 "
   ]
  },
  {
   "cell_type": "code",
   "execution_count": null,
   "id": "e0696cb2-16f9-4db0-a395-18e6246cea95",
   "metadata": {},
   "outputs": [],
   "source": []
  }
 ],
 "metadata": {
  "kernelspec": {
   "display_name": "Python 3 (ipykernel)",
   "language": "python",
   "name": "python3"
  },
  "language_info": {
   "codemirror_mode": {
    "name": "ipython",
    "version": 3
   },
   "file_extension": ".py",
   "mimetype": "text/x-python",
   "name": "python",
   "nbconvert_exporter": "python",
   "pygments_lexer": "ipython3",
   "version": "3.10.15"
  }
 },
 "nbformat": 4,
 "nbformat_minor": 5
}
